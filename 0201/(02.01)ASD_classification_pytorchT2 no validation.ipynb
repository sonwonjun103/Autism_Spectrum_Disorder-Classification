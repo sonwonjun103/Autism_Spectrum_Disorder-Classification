{
 "cells": [
  {
   "cell_type": "markdown",
   "id": "0d840d79",
   "metadata": {},
   "source": [
    "# 0. Library Import"
   ]
  },
  {
   "cell_type": "code",
   "execution_count": 1,
   "id": "25fca3d6",
   "metadata": {},
   "outputs": [],
   "source": [
    "import os\n",
    "import sys\n",
    "import numpy as np\n",
    "import matplotlib.pyplot as plt\n",
    "\n",
    "import time\n",
    "import cv2\n",
    "import random\n",
    "import gc\n",
    "import warnings\n",
    "\n",
    "from PIL import Image\n",
    "from glob import glob\n",
    "from tqdm import tqdm\n",
    "\n",
    "from sklearn.model_selection import train_test_split\n",
    "from sklearn.preprocessing import MinMaxScaler\n",
    "\n",
    "import SimpleITK as sitk\n",
    "import pydicom as dcm\n",
    "\n",
    "import torch\n",
    "import torch.nn as nn\n",
    "import torch.nn.functional as F\n",
    "\n",
    "from torchvision import datasets\n",
    "from torchvision.transforms import *\n",
    "from torchvision.transforms import Compose\n",
    "\n",
    "from torch.utils.data import Dataset\n",
    "from torch.utils.data import DataLoader\n",
    "from torch.utils.data import ConcatDataset\n",
    "from torch.autograd import Variable"
   ]
  },
  {
   "cell_type": "code",
   "execution_count": 2,
   "id": "67760899",
   "metadata": {},
   "outputs": [],
   "source": [
    "CFG={'Image_Size':256,\n",
    "    'EPOCHS':100,\n",
    "    'BATCH_SIZE':8,\n",
    "    'Learning_rate':1e-3,\n",
    "    'beta_1':0.9,\n",
    "    'beta_2':0.99,\n",
    "    'eps':0.00000001,\n",
    "     'weight_decay':0.000001,\n",
    "    'Channel_size':8,\n",
    "    'SEED':42}"
   ]
  },
  {
   "cell_type": "code",
   "execution_count": 3,
   "id": "537e2e03",
   "metadata": {},
   "outputs": [],
   "source": [
    "warnings.filterwarnings('ignore')"
   ]
  },
  {
   "cell_type": "markdown",
   "id": "966f6805",
   "metadata": {},
   "source": [
    "# 1. Check Gpu Server"
   ]
  },
  {
   "cell_type": "code",
   "execution_count": 4,
   "id": "5b998d9f",
   "metadata": {},
   "outputs": [
    {
     "name": "stdout",
     "output_type": "stream",
     "text": [
      "device  : cuda\n"
     ]
    }
   ],
   "source": [
    "if torch.cuda.is_available():\n",
    "    device=\"cuda\"\n",
    "else:\n",
    "    device=\"cpu\"\n",
    "    \n",
    "print(f\"device  : {device}\")"
   ]
  },
  {
   "cell_type": "code",
   "execution_count": 5,
   "id": "6b2b53fb",
   "metadata": {},
   "outputs": [
    {
     "name": "stdout",
     "output_type": "stream",
     "text": [
      "Name of the graphic card : NVIDIA GeForce RTX 4090\n",
      "Number of gpu : 2\n"
     ]
    }
   ],
   "source": [
    "print(f\"Name of the graphic card : {torch.cuda.get_device_name(0)}\")\n",
    "print(f\"Number of gpu : {torch.cuda.device_count()}\")"
   ]
  },
  {
   "cell_type": "markdown",
   "id": "bc0414e0",
   "metadata": {},
   "source": [
    "### Make Trash can"
   ]
  },
  {
   "cell_type": "code",
   "execution_count": 6,
   "id": "2dbdafaf",
   "metadata": {},
   "outputs": [],
   "source": [
    "gc.collect()\n",
    "torch.cuda.empty_cache()"
   ]
  },
  {
   "cell_type": "markdown",
   "id": "11e9860c",
   "metadata": {},
   "source": [
    "### Seed"
   ]
  },
  {
   "cell_type": "code",
   "execution_count": 7,
   "id": "79339166",
   "metadata": {},
   "outputs": [],
   "source": [
    "def seed_everything(seed):\n",
    "    random.seed(seed)\n",
    "    os.environ['PYTHONHASHSEED']=str(seed)\n",
    "    np.random.seed(seed)\n",
    "    torch.manual_seed(seed)\n",
    "    torch.cuda.manual_seed(seed)\n",
    "    torch.backends.cudnn.deterministic=True\n",
    "    torch.backends.cudnn.benchmark=True\n",
    "\n",
    "seed_everything(CFG['SEED'])"
   ]
  },
  {
   "cell_type": "markdown",
   "id": "e7a585cf",
   "metadata": {},
   "source": [
    "# 2. Get Data Path"
   ]
  },
  {
   "cell_type": "code",
   "execution_count": 8,
   "id": "2b02dbc2",
   "metadata": {},
   "outputs": [
    {
     "name": "stdout",
     "output_type": "stream",
     "text": [
      "ASD Image Data :  203\n",
      "ASD+TC Image Data :  261\n"
     ]
    }
   ],
   "source": [
    "path_asd='C:\\\\Users\\\\PC00\\\\Desktop\\\\ASD_data\\\\ASD\\\\'\n",
    "path_control='C:\\\\Users\\\\PC00\\\\Desktop\\\\ASD_data\\\\CONTROL\\\\'\n",
    "\n",
    "asd_p=os.listdir(path_asd)\n",
    "control_p=os.listdir(path_control)\n",
    "\n",
    "MRI_image=['MAGIC_T2']\n",
    "all_image_path=[]\n",
    "\n",
    "for name in asd_p:\n",
    "    path=''\n",
    "    for image in MRI_image:\n",
    "        path=path_asd+name+'\\\\'+'aNew'+'\\\\'\n",
    "        path=path+image+'\\\\'\n",
    "        if 'Test' in path or '3564' in path or '3395' in path or '3278' in path or '3466' in path or '3624' in path or '3603' in path or '3632' in path or '3663' in path:\n",
    "            pass\n",
    "        else:\n",
    "            all_image_path.append(path)\n",
    "print(\"ASD Image Data : \" , len(all_image_path)) \n",
    "for name in control_p:\n",
    "    path=''\n",
    "    for image in MRI_image:\n",
    "        path=path_control+name+'\\\\'+'aNew'+'\\\\'\n",
    "        path=path+image+'\\\\'\n",
    "        if 'Test' in path or '3564' in path or '3395' in path or '3278' in path or '3466' in path or '3624' in path or '3603' in path or '3632' in path or '3663' in path:\n",
    "            pass\n",
    "        else:\n",
    "            all_image_path.append(path)\n",
    "        \n",
    "print(\"ASD+TC Image Data : \" ,len(all_image_path))"
   ]
  },
  {
   "cell_type": "code",
   "execution_count": 9,
   "id": "9a06da8d",
   "metadata": {},
   "outputs": [
    {
     "name": "stdout",
     "output_type": "stream",
     "text": [
      "C:\\Users\\PC00\\Desktop\\ASD_data\\ASD\\1101_ASY\\aNew\\MAGIC_T2\\\n",
      "C:\\Users\\PC00\\Desktop\\ASD_data\\ASD\\1111_KJW\\aNew\\MAGIC_T2\\\n",
      "C:\\Users\\PC00\\Desktop\\ASD_data\\ASD\\1113_LJH\\aNew\\MAGIC_T2\\\n",
      "C:\\Users\\PC00\\Desktop\\ASD_data\\ASD\\1321_KSH\\aNew\\MAGIC_T2\\\n",
      "C:\\Users\\PC00\\Desktop\\ASD_data\\ASD\\1332_LJM\\aNew\\MAGIC_T2\\\n",
      "C:\\Users\\PC00\\Desktop\\ASD_data\\ASD\\1542_KYL\\aNew\\MAGIC_T2\\\n",
      "C:\\Users\\PC00\\Desktop\\ASD_data\\ASD\\1543_BYS\\aNew\\MAGIC_T2\\\n",
      "C:\\Users\\PC00\\Desktop\\ASD_data\\ASD\\1563_CYS\\aNew\\MAGIC_T2\\\n",
      "C:\\Users\\PC00\\Desktop\\ASD_data\\ASD\\1659_YHS\\aNew\\MAGIC_T2\\\n",
      "C:\\Users\\PC00\\Desktop\\ASD_data\\ASD\\1692_CMK\\aNew\\MAGIC_T2\\\n",
      "C:\\Users\\PC00\\Desktop\\ASD_data\\ASD\\1694_LDW\\aNew\\MAGIC_T2\\\n",
      "C:\\Users\\PC00\\Desktop\\ASD_data\\ASD\\1712_SHJ\\aNew\\MAGIC_T2\\\n",
      "C:\\Users\\PC00\\Desktop\\ASD_data\\ASD\\1727_SYS\\aNew\\MAGIC_T2\\\n",
      "C:\\Users\\PC00\\Desktop\\ASD_data\\ASD\\1734_PJW\\aNew\\MAGIC_T2\\\n",
      "C:\\Users\\PC00\\Desktop\\ASD_data\\ASD\\1736_KSJ\\aNew\\MAGIC_T2\\\n",
      "C:\\Users\\PC00\\Desktop\\ASD_data\\ASD\\1746_YDK\\aNew\\MAGIC_T2\\\n",
      "C:\\Users\\PC00\\Desktop\\ASD_data\\ASD\\1751_CYS\\aNew\\MAGIC_T2\\\n",
      "C:\\Users\\PC00\\Desktop\\ASD_data\\ASD\\1787_CWJ\\aNew\\MAGIC_T2\\\n",
      "C:\\Users\\PC00\\Desktop\\ASD_data\\ASD\\1812_PMJ\\aNew\\MAGIC_T2\\\n",
      "C:\\Users\\PC00\\Desktop\\ASD_data\\ASD\\1820_PSY\\aNew\\MAGIC_T2\\\n",
      "C:\\Users\\PC00\\Desktop\\ASD_data\\ASD\\1835_SHM\\aNew\\MAGIC_T2\\\n",
      "C:\\Users\\PC00\\Desktop\\ASD_data\\ASD\\1856_CJW\\aNew\\MAGIC_T2\\\n",
      "C:\\Users\\PC00\\Desktop\\ASD_data\\ASD\\1888_ASY\\aNew\\MAGIC_T2\\\n",
      "C:\\Users\\PC00\\Desktop\\ASD_data\\ASD\\1901_WHS\\aNew\\MAGIC_T2\\\n",
      "C:\\Users\\PC00\\Desktop\\ASD_data\\ASD\\1914_KMS\\aNew\\MAGIC_T2\\\n",
      "C:\\Users\\PC00\\Desktop\\ASD_data\\ASD\\2026_CJW\\aNew\\MAGIC_T2\\\n",
      "C:\\Users\\PC00\\Desktop\\ASD_data\\ASD\\2038_KMS\\aNew\\MAGIC_T2\\\n",
      "C:\\Users\\PC00\\Desktop\\ASD_data\\ASD\\2054_LKH\\aNew\\MAGIC_T2\\\n",
      "C:\\Users\\PC00\\Desktop\\ASD_data\\ASD\\2071_LWH\\aNew\\MAGIC_T2\\\n",
      "C:\\Users\\PC00\\Desktop\\ASD_data\\ASD\\2105_CHW\\aNew\\MAGIC_T2\\\n",
      "C:\\Users\\PC00\\Desktop\\ASD_data\\ASD\\2126_SES\\aNew\\MAGIC_T2\\\n",
      "C:\\Users\\PC00\\Desktop\\ASD_data\\ASD\\2157_WJY\\aNew\\MAGIC_T2\\\n",
      "C:\\Users\\PC00\\Desktop\\ASD_data\\ASD\\2239_KHJ\\aNew\\MAGIC_T2\\\n",
      "C:\\Users\\PC00\\Desktop\\ASD_data\\ASD\\2247_KBY\\aNew\\MAGIC_T2\\\n",
      "C:\\Users\\PC00\\Desktop\\ASD_data\\ASD\\2261_KKB\\aNew\\MAGIC_T2\\\n",
      "C:\\Users\\PC00\\Desktop\\ASD_data\\ASD\\2262_ASY\\aNew\\MAGIC_T2\\\n",
      "C:\\Users\\PC00\\Desktop\\ASD_data\\ASD\\2288_CWS\\aNew\\MAGIC_T2\\\n",
      "C:\\Users\\PC00\\Desktop\\ASD_data\\ASD\\2304_HLA\\aNew\\MAGIC_T2\\\n",
      "C:\\Users\\PC00\\Desktop\\ASD_data\\ASD\\2322_KSH\\aNew\\MAGIC_T2\\\n",
      "C:\\Users\\PC00\\Desktop\\ASD_data\\ASD\\2333_CSW\\aNew\\MAGIC_T2\\\n",
      "C:\\Users\\PC00\\Desktop\\ASD_data\\ASD\\2356_KHJ\\aNew\\MAGIC_T2\\\n",
      "C:\\Users\\PC00\\Desktop\\ASD_data\\ASD\\2383_PSY\\aNew\\MAGIC_T2\\\n",
      "C:\\Users\\PC00\\Desktop\\ASD_data\\ASD\\2442_SJW\\aNew\\MAGIC_T2\\\n",
      "C:\\Users\\PC00\\Desktop\\ASD_data\\ASD\\2478_CHK\\aNew\\MAGIC_T2\\\n",
      "C:\\Users\\PC00\\Desktop\\ASD_data\\ASD\\2524_KSH\\aNew\\MAGIC_T2\\\n",
      "C:\\Users\\PC00\\Desktop\\ASD_data\\ASD\\2540_PDK\\aNew\\MAGIC_T2\\\n",
      "C:\\Users\\PC00\\Desktop\\ASD_data\\ASD\\2600_HJH\\aNew\\MAGIC_T2\\\n",
      "C:\\Users\\PC00\\Desktop\\ASD_data\\ASD\\2610_PHY\\aNew\\MAGIC_T2\\\n",
      "C:\\Users\\PC00\\Desktop\\ASD_data\\ASD\\2626_CYW\\aNew\\MAGIC_T2\\\n",
      "C:\\Users\\PC00\\Desktop\\ASD_data\\ASD\\2654_PYN\\aNew\\MAGIC_T2\\\n",
      "C:\\Users\\PC00\\Desktop\\ASD_data\\ASD\\2659_SJW\\aNew\\MAGIC_T2\\\n",
      "C:\\Users\\PC00\\Desktop\\ASD_data\\ASD\\2711_CYR\\aNew\\MAGIC_T2\\\n",
      "C:\\Users\\PC00\\Desktop\\ASD_data\\ASD\\2719_HKY\\aNew\\MAGIC_T2\\\n",
      "C:\\Users\\PC00\\Desktop\\ASD_data\\ASD\\2733_PSB\\aNew\\MAGIC_T2\\\n",
      "C:\\Users\\PC00\\Desktop\\ASD_data\\ASD\\2768_LKM\\aNew\\MAGIC_T2\\\n",
      "C:\\Users\\PC00\\Desktop\\ASD_data\\ASD\\2780_KHJ\\aNew\\MAGIC_T2\\\n",
      "C:\\Users\\PC00\\Desktop\\ASD_data\\ASD\\2784_KMS\\aNew\\MAGIC_T2\\\n",
      "C:\\Users\\PC00\\Desktop\\ASD_data\\ASD\\2793_LDY\\aNew\\MAGIC_T2\\\n",
      "C:\\Users\\PC00\\Desktop\\ASD_data\\ASD\\2811_HTS\\aNew\\MAGIC_T2\\\n",
      "C:\\Users\\PC00\\Desktop\\ASD_data\\ASD\\2819_KSH\\aNew\\MAGIC_T2\\\n",
      "C:\\Users\\PC00\\Desktop\\ASD_data\\ASD\\2853_LSH\\aNew\\MAGIC_T2\\\n",
      "C:\\Users\\PC00\\Desktop\\ASD_data\\ASD\\2886_LSM\\aNew\\MAGIC_T2\\\n",
      "C:\\Users\\PC00\\Desktop\\ASD_data\\ASD\\2898_JHS\\aNew\\MAGIC_T2\\\n",
      "C:\\Users\\PC00\\Desktop\\ASD_data\\ASD\\2899_LHN\\aNew\\MAGIC_T2\\\n",
      "C:\\Users\\PC00\\Desktop\\ASD_data\\ASD\\2912_PKL\\aNew\\MAGIC_T2\\\n",
      "C:\\Users\\PC00\\Desktop\\ASD_data\\ASD\\2922_JJW\\aNew\\MAGIC_T2\\\n",
      "C:\\Users\\PC00\\Desktop\\ASD_data\\ASD\\2932_LSC\\aNew\\MAGIC_T2\\\n",
      "C:\\Users\\PC00\\Desktop\\ASD_data\\ASD\\2936_SYW\\aNew\\MAGIC_T2\\\n",
      "C:\\Users\\PC00\\Desktop\\ASD_data\\ASD\\2983_KMH\\aNew\\MAGIC_T2\\\n",
      "C:\\Users\\PC00\\Desktop\\ASD_data\\ASD\\3009_PCH\\aNew\\MAGIC_T2\\\n",
      "C:\\Users\\PC00\\Desktop\\ASD_data\\ASD\\3011_LSW\\aNew\\MAGIC_T2\\\n",
      "C:\\Users\\PC00\\Desktop\\ASD_data\\ASD\\3031_SEH\\aNew\\MAGIC_T2\\\n",
      "C:\\Users\\PC00\\Desktop\\ASD_data\\ASD\\3044_LJH\\aNew\\MAGIC_T2\\\n",
      "C:\\Users\\PC00\\Desktop\\ASD_data\\ASD\\3070_CYY\\aNew\\MAGIC_T2\\\n",
      "C:\\Users\\PC00\\Desktop\\ASD_data\\ASD\\3127_KDH\\aNew\\MAGIC_T2\\\n",
      "C:\\Users\\PC00\\Desktop\\ASD_data\\ASD\\3207_KHK\\aNew\\MAGIC_T2\\\n",
      "C:\\Users\\PC00\\Desktop\\ASD_data\\ASD\\3341_SCW\\aNew\\MAGIC_T2\\\n",
      "C:\\Users\\PC00\\Desktop\\ASD_data\\ASD\\3347_KTW\\aNew\\MAGIC_T2\\\n",
      "C:\\Users\\PC00\\Desktop\\ASD_data\\ASD\\3401_MJH\\aNew\\MAGIC_T2\\\n",
      "C:\\Users\\PC00\\Desktop\\ASD_data\\ASD\\3420_CSY\\aNew\\MAGIC_T2\\\n",
      "C:\\Users\\PC00\\Desktop\\ASD_data\\ASD\\3488_KSW\\aNew\\MAGIC_T2\\\n",
      "C:\\Users\\PC00\\Desktop\\ASD_data\\ASD\\3516_LSY\\aNew\\MAGIC_T2\\\n",
      "C:\\Users\\PC00\\Desktop\\ASD_data\\ASD\\3519_SMK\\aNew\\MAGIC_T2\\\n",
      "C:\\Users\\PC00\\Desktop\\ASD_data\\ASD\\3522_HSO\\aNew\\MAGIC_T2\\\n",
      "C:\\Users\\PC00\\Desktop\\ASD_data\\ASD\\3563_LYS\\aNew\\MAGIC_T2\\\n",
      "C:\\Users\\PC00\\Desktop\\ASD_data\\ASD\\3565_LYR\\aNew\\MAGIC_T2\\\n",
      "C:\\Users\\PC00\\Desktop\\ASD_data\\ASD\\3608_KBJ\\aNew\\MAGIC_T2\\\n",
      "C:\\Users\\PC00\\Desktop\\ASD_data\\ASD\\3628_YSH\\aNew\\MAGIC_T2\\\n",
      "C:\\Users\\PC00\\Desktop\\ASD_data\\ASD\\3635_KSM\\aNew\\MAGIC_T2\\\n",
      "C:\\Users\\PC00\\Desktop\\ASD_data\\ASD\\3662_KYB\\aNew\\MAGIC_T2\\\n",
      "C:\\Users\\PC00\\Desktop\\ASD_data\\ASD\\3672_YSB\\aNew\\MAGIC_T2\\\n",
      "C:\\Users\\PC00\\Desktop\\ASD_data\\ASD\\3685_SYH\\aNew\\MAGIC_T2\\\n",
      "C:\\Users\\PC00\\Desktop\\ASD_data\\ASD\\3722_SNRB\\aNew\\MAGIC_T2\\\n",
      "C:\\Users\\PC00\\Desktop\\ASD_data\\ASD\\3723_KRH\\aNew\\MAGIC_T2\\\n",
      "C:\\Users\\PC00\\Desktop\\ASD_data\\ASD\\3744_BSW\\aNew\\MAGIC_T2\\\n",
      "C:\\Users\\PC00\\Desktop\\ASD_data\\ASD\\3951_CAY\\aNew\\MAGIC_T2\\\n",
      "C:\\Users\\PC00\\Desktop\\ASD_data\\ASD\\398_LJH\\aNew\\MAGIC_T2\\\n",
      "C:\\Users\\PC00\\Desktop\\ASD_data\\ASD\\4021_SSY\\aNew\\MAGIC_T2\\\n",
      "C:\\Users\\PC00\\Desktop\\ASD_data\\ASD\\4026_KBM\\aNew\\MAGIC_T2\\\n",
      "C:\\Users\\PC00\\Desktop\\ASD_data\\ASD\\4029_LSH\\aNew\\MAGIC_T2\\\n",
      "C:\\Users\\PC00\\Desktop\\ASD_data\\ASD\\4038_JKH\\aNew\\MAGIC_T2\\\n",
      "C:\\Users\\PC00\\Desktop\\ASD_data\\ASD\\4043_KYR\\aNew\\MAGIC_T2\\\n",
      "C:\\Users\\PC00\\Desktop\\ASD_data\\ASD\\4044_SYJ\\aNew\\MAGIC_T2\\\n",
      "C:\\Users\\PC00\\Desktop\\ASD_data\\ASD\\4047_JKH\\aNew\\MAGIC_T2\\\n",
      "C:\\Users\\PC00\\Desktop\\ASD_data\\ASD\\4067_PSW\\aNew\\MAGIC_T2\\\n",
      "C:\\Users\\PC00\\Desktop\\ASD_data\\ASD\\4082_PJW\\aNew\\MAGIC_T2\\\n",
      "C:\\Users\\PC00\\Desktop\\ASD_data\\ASD\\4088_LCY\\aNew\\MAGIC_T2\\\n",
      "C:\\Users\\PC00\\Desktop\\ASD_data\\ASD\\4099_JHW\\aNew\\MAGIC_T2\\\n",
      "C:\\Users\\PC00\\Desktop\\ASD_data\\ASD\\4109_UDM\\aNew\\MAGIC_T2\\\n",
      "C:\\Users\\PC00\\Desktop\\ASD_data\\ASD\\4134_SMJ\\aNew\\MAGIC_T2\\\n",
      "C:\\Users\\PC00\\Desktop\\ASD_data\\ASD\\4140_LHM\\aNew\\MAGIC_T2\\\n",
      "C:\\Users\\PC00\\Desktop\\ASD_data\\ASD\\4154_KYS\\aNew\\MAGIC_T2\\\n",
      "C:\\Users\\PC00\\Desktop\\ASD_data\\ASD\\4156_LDK\\aNew\\MAGIC_T2\\\n",
      "C:\\Users\\PC00\\Desktop\\ASD_data\\ASD\\4157_KSH\\aNew\\MAGIC_T2\\\n",
      "C:\\Users\\PC00\\Desktop\\ASD_data\\ASD\\4184_PHM\\aNew\\MAGIC_T2\\\n",
      "C:\\Users\\PC00\\Desktop\\ASD_data\\ASD\\4195_NYJ\\aNew\\MAGIC_T2\\\n",
      "C:\\Users\\PC00\\Desktop\\ASD_data\\ASD\\4204_SYJ\\aNew\\MAGIC_T2\\\n",
      "C:\\Users\\PC00\\Desktop\\ASD_data\\ASD\\4214_PJS\\aNew\\MAGIC_T2\\\n",
      "C:\\Users\\PC00\\Desktop\\ASD_data\\ASD\\4224_YIS\\aNew\\MAGIC_T2\\\n",
      "C:\\Users\\PC00\\Desktop\\ASD_data\\ASD\\4235_LSJ\\aNew\\MAGIC_T2\\\n",
      "C:\\Users\\PC00\\Desktop\\ASD_data\\ASD\\4242_LHY\\aNew\\MAGIC_T2\\\n",
      "C:\\Users\\PC00\\Desktop\\ASD_data\\ASD\\4259_PSY\\aNew\\MAGIC_T2\\\n",
      "C:\\Users\\PC00\\Desktop\\ASD_data\\ASD\\4270_CAI\\aNew\\MAGIC_T2\\\n",
      "C:\\Users\\PC00\\Desktop\\ASD_data\\ASD\\427_LSA\\aNew\\MAGIC_T2\\\n",
      "C:\\Users\\PC00\\Desktop\\ASD_data\\ASD\\4280_PJH\\aNew\\MAGIC_T2\\\n",
      "C:\\Users\\PC00\\Desktop\\ASD_data\\ASD\\4283_CYW\\aNew\\MAGIC_T2\\\n",
      "C:\\Users\\PC00\\Desktop\\ASD_data\\ASD\\4302_CHE\\aNew\\MAGIC_T2\\\n",
      "C:\\Users\\PC00\\Desktop\\ASD_data\\ASD\\4312_KYB\\aNew\\MAGIC_T2\\\n",
      "C:\\Users\\PC00\\Desktop\\ASD_data\\ASD\\4323_KYC\\aNew\\MAGIC_T2\\\n",
      "C:\\Users\\PC00\\Desktop\\ASD_data\\ASD\\4355_YJH\\aNew\\MAGIC_T2\\\n",
      "C:\\Users\\PC00\\Desktop\\ASD_data\\ASD\\4372_KSJ\\aNew\\MAGIC_T2\\\n",
      "C:\\Users\\PC00\\Desktop\\ASD_data\\ASD\\438KMJ\\aNew\\MAGIC_T2\\\n",
      "C:\\Users\\PC00\\Desktop\\ASD_data\\ASD\\4396_KDW\\aNew\\MAGIC_T2\\\n",
      "C:\\Users\\PC00\\Desktop\\ASD_data\\ASD\\4464_LHJ\\aNew\\MAGIC_T2\\\n",
      "C:\\Users\\PC00\\Desktop\\ASD_data\\ASD\\4478_5_SJH\\aNew\\MAGIC_T2\\\n",
      "C:\\Users\\PC00\\Desktop\\ASD_data\\ASD\\4543_KJI\\aNew\\MAGIC_T2\\\n",
      "C:\\Users\\PC00\\Desktop\\ASD_data\\ASD\\4586_JYW\\aNew\\MAGIC_T2\\\n",
      "C:\\Users\\PC00\\Desktop\\ASD_data\\ASD\\4600_LJH\\aNew\\MAGIC_T2\\\n",
      "C:\\Users\\PC00\\Desktop\\ASD_data\\ASD\\4618_KKH\\aNew\\MAGIC_T2\\\n",
      "C:\\Users\\PC00\\Desktop\\ASD_data\\ASD\\4655_HJA\\aNew\\MAGIC_T2\\\n",
      "C:\\Users\\PC00\\Desktop\\ASD_data\\ASD\\4681_PSH_DL\\aNew\\MAGIC_T2\\\n",
      "C:\\Users\\PC00\\Desktop\\ASD_data\\ASD\\4696_LSY\\aNew\\MAGIC_T2\\\n",
      "C:\\Users\\PC00\\Desktop\\ASD_data\\ASD\\4704_SOY\\aNew\\MAGIC_T2\\\n",
      "C:\\Users\\PC00\\Desktop\\ASD_data\\ASD\\4740_KDH\\aNew\\MAGIC_T2\\\n",
      "C:\\Users\\PC00\\Desktop\\ASD_data\\ASD\\4753_KHK_DL\\aNew\\MAGIC_T2\\\n",
      "C:\\Users\\PC00\\Desktop\\ASD_data\\ASD\\4773_DY\\aNew\\MAGIC_T2\\\n",
      "C:\\Users\\PC00\\Desktop\\ASD_data\\ASD\\4787_ODE\\aNew\\MAGIC_T2\\\n",
      "C:\\Users\\PC00\\Desktop\\ASD_data\\ASD\\4804_KHN_DL\\aNew\\MAGIC_T2\\\n",
      "C:\\Users\\PC00\\Desktop\\ASD_data\\ASD\\4806_KWK_DL\\aNew\\MAGIC_T2\\\n",
      "C:\\Users\\PC00\\Desktop\\ASD_data\\ASD\\4827_SYJ_DL\\aNew\\MAGIC_T2\\\n",
      "C:\\Users\\PC00\\Desktop\\ASD_data\\ASD\\4887_JBY\\aNew\\MAGIC_T2\\\n",
      "C:\\Users\\PC00\\Desktop\\ASD_data\\ASD\\4890_LSH\\aNew\\MAGIC_T2\\\n",
      "C:\\Users\\PC00\\Desktop\\ASD_data\\ASD\\4907_HJW\\aNew\\MAGIC_T2\\\n",
      "C:\\Users\\PC00\\Desktop\\ASD_data\\ASD\\4916_SJW\\aNew\\MAGIC_T2\\\n",
      "C:\\Users\\PC00\\Desktop\\ASD_data\\ASD\\4925_KJW\\aNew\\MAGIC_T2\\\n",
      "C:\\Users\\PC00\\Desktop\\ASD_data\\ASD\\4951_KHJ\\aNew\\MAGIC_T2\\\n",
      "C:\\Users\\PC00\\Desktop\\ASD_data\\ASD\\4954_LYJ\\aNew\\MAGIC_T2\\\n",
      "C:\\Users\\PC00\\Desktop\\ASD_data\\ASD\\495_KDY\\aNew\\MAGIC_T2\\\n",
      "C:\\Users\\PC00\\Desktop\\ASD_data\\ASD\\4994_KHM\\aNew\\MAGIC_T2\\\n",
      "C:\\Users\\PC00\\Desktop\\ASD_data\\ASD\\4997_KMH\\aNew\\MAGIC_T2\\\n",
      "C:\\Users\\PC00\\Desktop\\ASD_data\\ASD\\502_CJW\\aNew\\MAGIC_T2\\\n",
      "C:\\Users\\PC00\\Desktop\\ASD_data\\ASD\\510_CSH\\aNew\\MAGIC_T2\\\n",
      "C:\\Users\\PC00\\Desktop\\ASD_data\\ASD\\5129_LHS\\aNew\\MAGIC_T2\\\n",
      "C:\\Users\\PC00\\Desktop\\ASD_data\\ASD\\5139_PJS\\aNew\\MAGIC_T2\\\n",
      "C:\\Users\\PC00\\Desktop\\ASD_data\\ASD\\5141_JHJ\\aNew\\MAGIC_T2\\\n",
      "C:\\Users\\PC00\\Desktop\\ASD_data\\ASD\\5169_LDO\\aNew\\MAGIC_T2\\\n",
      "C:\\Users\\PC00\\Desktop\\ASD_data\\ASD\\5249_KDH\\aNew\\MAGIC_T2\\\n",
      "C:\\Users\\PC00\\Desktop\\ASD_data\\ASD\\5253_USJ\\aNew\\MAGIC_T2\\\n",
      "C:\\Users\\PC00\\Desktop\\ASD_data\\ASD\\5274_OJH\\aNew\\MAGIC_T2\\\n",
      "C:\\Users\\PC00\\Desktop\\ASD_data\\ASD\\5282_OYR\\aNew\\MAGIC_T2\\\n",
      "C:\\Users\\PC00\\Desktop\\ASD_data\\ASD\\5296_KTY\\aNew\\MAGIC_T2\\\n",
      "C:\\Users\\PC00\\Desktop\\ASD_data\\ASD\\5334_HSM\\aNew\\MAGIC_T2\\\n",
      "C:\\Users\\PC00\\Desktop\\ASD_data\\ASD\\5338_KMJ\\aNew\\MAGIC_T2\\\n",
      "C:\\Users\\PC00\\Desktop\\ASD_data\\ASD\\5345_KTH\\aNew\\MAGIC_T2\\\n",
      "C:\\Users\\PC00\\Desktop\\ASD_data\\ASD\\5347_KEH\\aNew\\MAGIC_T2\\\n",
      "C:\\Users\\PC00\\Desktop\\ASD_data\\ASD\\537_PMJ\\aNew\\MAGIC_T2\\\n",
      "C:\\Users\\PC00\\Desktop\\ASD_data\\ASD\\544_KSH\\aNew\\MAGIC_T2\\\n",
      "C:\\Users\\PC00\\Desktop\\ASD_data\\ASD\\571_KJY\\aNew\\MAGIC_T2\\\n",
      "C:\\Users\\PC00\\Desktop\\ASD_data\\ASD\\592_LHJ\\aNew\\MAGIC_T2\\\n",
      "C:\\Users\\PC00\\Desktop\\ASD_data\\ASD\\622_HYJ\\aNew\\MAGIC_T2\\\n",
      "C:\\Users\\PC00\\Desktop\\ASD_data\\ASD\\633_CSW\\aNew\\MAGIC_T2\\\n",
      "C:\\Users\\PC00\\Desktop\\ASD_data\\ASD\\652_LSH\\aNew\\MAGIC_T2\\\n",
      "C:\\Users\\PC00\\Desktop\\ASD_data\\ASD\\653_LJW\\aNew\\MAGIC_T2\\\n",
      "C:\\Users\\PC00\\Desktop\\ASD_data\\ASD\\780_OSL\\aNew\\MAGIC_T2\\\n",
      "C:\\Users\\PC00\\Desktop\\ASD_data\\ASD\\821_LSH\\aNew\\MAGIC_T2\\\n",
      "C:\\Users\\PC00\\Desktop\\ASD_data\\ASD\\838_KHW\\aNew\\MAGIC_T2\\\n",
      "C:\\Users\\PC00\\Desktop\\ASD_data\\ASD\\858_PSY\\aNew\\MAGIC_T2\\\n",
      "C:\\Users\\PC00\\Desktop\\ASD_data\\ASD\\903_LJH\\aNew\\MAGIC_T2\\\n",
      "C:\\Users\\PC00\\Desktop\\ASD_data\\ASD\\955_JSM\\aNew\\MAGIC_T2\\\n",
      "C:\\Users\\PC00\\Desktop\\ASD_data\\ASD\\972_HHJ\\aNew\\MAGIC_T2\\\n",
      "C:\\Users\\PC00\\Desktop\\ASD_data\\ASD\\s4-05_PDJ\\aNew\\MAGIC_T2\\\n",
      "C:\\Users\\PC00\\Desktop\\ASD_data\\ASD\\s4-07_JYC\\aNew\\MAGIC_T2\\\n",
      "C:\\Users\\PC00\\Desktop\\ASD_data\\ASD\\s4-107_PJS\\aNew\\MAGIC_T2\\\n",
      "C:\\Users\\PC00\\Desktop\\ASD_data\\ASD\\s4-111_PCW\\aNew\\MAGIC_T2\\\n",
      "C:\\Users\\PC00\\Desktop\\ASD_data\\ASD\\s4-13_YSH\\aNew\\MAGIC_T2\\\n",
      "C:\\Users\\PC00\\Desktop\\ASD_data\\ASD\\s4-174_alexander\\aNew\\MAGIC_T2\\\n",
      "C:\\Users\\PC00\\Desktop\\ASD_data\\ASD\\s4-175_MKH\\aNew\\MAGIC_T2\\\n",
      "C:\\Users\\PC00\\Desktop\\ASD_data\\ASD\\s4-234_JJH\\aNew\\MAGIC_T2\\\n",
      "C:\\Users\\PC00\\Desktop\\ASD_data\\ASD\\s4-238_KSH\\aNew\\MAGIC_T2\\\n",
      "C:\\Users\\PC00\\Desktop\\ASD_data\\ASD\\s4-240_KDK\\aNew\\MAGIC_T2\\\n",
      "C:\\Users\\PC00\\Desktop\\ASD_data\\ASD\\s4-73_JWK\\aNew\\MAGIC_T2\\\n",
      "C:\\Users\\PC00\\Desktop\\ASD_data\\ASD\\s4-97_PHJ\\aNew\\MAGIC_T2\\\n",
      "C:\\Users\\PC00\\Desktop\\ASD_data\\ASD\\s6-14_PHW\\aNew\\MAGIC_T2\\\n",
      "C:\\Users\\PC00\\Desktop\\ASD_data\\CONTROL\\1040_PSH\\aNew\\MAGIC_T2\\\n",
      "C:\\Users\\PC00\\Desktop\\ASD_data\\CONTROL\\1084_CJS\\aNew\\MAGIC_T2\\\n",
      "C:\\Users\\PC00\\Desktop\\ASD_data\\CONTROL\\1665_LJY\\aNew\\MAGIC_T2\\\n",
      "C:\\Users\\PC00\\Desktop\\ASD_data\\CONTROL\\1825_HSJ\\aNew\\MAGIC_T2\\\n",
      "C:\\Users\\PC00\\Desktop\\ASD_data\\CONTROL\\1928_HDE\\aNew\\MAGIC_T2\\\n",
      "C:\\Users\\PC00\\Desktop\\ASD_data\\CONTROL\\1982_LCH\\aNew\\MAGIC_T2\\\n",
      "C:\\Users\\PC00\\Desktop\\ASD_data\\CONTROL\\2027_PCY\\aNew\\MAGIC_T2\\\n",
      "C:\\Users\\PC00\\Desktop\\ASD_data\\CONTROL\\2039_CMK\\aNew\\MAGIC_T2\\\n",
      "C:\\Users\\PC00\\Desktop\\ASD_data\\CONTROL\\2235_LSJ\\aNew\\MAGIC_T2\\\n",
      "C:\\Users\\PC00\\Desktop\\ASD_data\\CONTROL\\2513_KYW\\aNew\\MAGIC_T2\\\n",
      "C:\\Users\\PC00\\Desktop\\ASD_data\\CONTROL\\2742_OYK\\aNew\\MAGIC_T2\\\n",
      "C:\\Users\\PC00\\Desktop\\ASD_data\\CONTROL\\2909_KDE\\aNew\\MAGIC_T2\\\n",
      "C:\\Users\\PC00\\Desktop\\ASD_data\\CONTROL\\2917_JHJ\\aNew\\MAGIC_T2\\\n",
      "C:\\Users\\PC00\\Desktop\\ASD_data\\CONTROL\\3002_KKW\\aNew\\MAGIC_T2\\\n",
      "C:\\Users\\PC00\\Desktop\\ASD_data\\CONTROL\\3243_KKE\\aNew\\MAGIC_T2\\\n",
      "C:\\Users\\PC00\\Desktop\\ASD_data\\CONTROL\\3356_AIH\\aNew\\MAGIC_T2\\\n",
      "C:\\Users\\PC00\\Desktop\\ASD_data\\CONTROL\\3390_PSH\\aNew\\MAGIC_T2\\\n",
      "C:\\Users\\PC00\\Desktop\\ASD_data\\CONTROL\\3415_PCA\\aNew\\MAGIC_T2\\\n",
      "C:\\Users\\PC00\\Desktop\\ASD_data\\CONTROL\\3472_MJY\\aNew\\MAGIC_T2\\\n",
      "C:\\Users\\PC00\\Desktop\\ASD_data\\CONTROL\\3520_PYK\\aNew\\MAGIC_T2\\\n",
      "C:\\Users\\PC00\\Desktop\\ASD_data\\CONTROL\\3525_BJY\\aNew\\MAGIC_T2\\\n",
      "C:\\Users\\PC00\\Desktop\\ASD_data\\CONTROL\\3650_OYK\\aNew\\MAGIC_T2\\\n",
      "C:\\Users\\PC00\\Desktop\\ASD_data\\CONTROL\\3706_LYJ\\aNew\\MAGIC_T2\\\n",
      "C:\\Users\\PC00\\Desktop\\ASD_data\\CONTROL\\3834_HJH\\aNew\\MAGIC_T2\\\n",
      "C:\\Users\\PC00\\Desktop\\ASD_data\\CONTROL\\3864_PSJ\\aNew\\MAGIC_T2\\\n",
      "C:\\Users\\PC00\\Desktop\\ASD_data\\CONTROL\\3972_LMS\\aNew\\MAGIC_T2\\\n",
      "C:\\Users\\PC00\\Desktop\\ASD_data\\CONTROL\\3979_LSJ\\aNew\\MAGIC_T2\\\n",
      "C:\\Users\\PC00\\Desktop\\ASD_data\\CONTROL\\3993_PSH\\aNew\\MAGIC_T2\\\n",
      "C:\\Users\\PC00\\Desktop\\ASD_data\\CONTROL\\425_KAY\\aNew\\MAGIC_T2\\\n",
      "C:\\Users\\PC00\\Desktop\\ASD_data\\CONTROL\\4329_KMJ\\aNew\\MAGIC_T2\\\n",
      "C:\\Users\\PC00\\Desktop\\ASD_data\\CONTROL\\4440_SYS\\aNew\\MAGIC_T2\\\n",
      "C:\\Users\\PC00\\Desktop\\ASD_data\\CONTROL\\4623_RJH\\aNew\\MAGIC_T2\\\n",
      "C:\\Users\\PC00\\Desktop\\ASD_data\\CONTROL\\4629_PDAN\\aNew\\MAGIC_T2\\\n",
      "C:\\Users\\PC00\\Desktop\\ASD_data\\CONTROL\\4702_KHR\\aNew\\MAGIC_T2\\\n",
      "C:\\Users\\PC00\\Desktop\\ASD_data\\CONTROL\\4803_MTM\\aNew\\MAGIC_T2\\\n",
      "C:\\Users\\PC00\\Desktop\\ASD_data\\CONTROL\\5190_JSA\\aNew\\MAGIC_T2\\\n",
      "C:\\Users\\PC00\\Desktop\\ASD_data\\CONTROL\\536_KMS\\aNew\\MAGIC_T2\\\n",
      "C:\\Users\\PC00\\Desktop\\ASD_data\\CONTROL\\569_KJW\\aNew\\MAGIC_T2\\\n",
      "C:\\Users\\PC00\\Desktop\\ASD_data\\CONTROL\\5776_LSM\\aNew\\MAGIC_T2\\\n",
      "C:\\Users\\PC00\\Desktop\\ASD_data\\CONTROL\\5789_JRO\\aNew\\MAGIC_T2\\\n",
      "C:\\Users\\PC00\\Desktop\\ASD_data\\CONTROL\\5863_KYJ\\aNew\\MAGIC_T2\\\n",
      "C:\\Users\\PC00\\Desktop\\ASD_data\\CONTROL\\5933_MHMD\\aNew\\MAGIC_T2\\\n",
      "C:\\Users\\PC00\\Desktop\\ASD_data\\CONTROL\\5945_PEW\\aNew\\MAGIC_T2\\\n",
      "C:\\Users\\PC00\\Desktop\\ASD_data\\CONTROL\\638_SSA\\aNew\\MAGIC_T2\\\n",
      "C:\\Users\\PC00\\Desktop\\ASD_data\\CONTROL\\716_JYW\\aNew\\MAGIC_T2\\\n",
      "C:\\Users\\PC00\\Desktop\\ASD_data\\CONTROL\\733_WJA\\aNew\\MAGIC_T2\\\n",
      "C:\\Users\\PC00\\Desktop\\ASD_data\\CONTROL\\736_SYT\\aNew\\MAGIC_T2\\\n",
      "C:\\Users\\PC00\\Desktop\\ASD_data\\CONTROL\\779_CHJ\\aNew\\MAGIC_T2\\\n",
      "C:\\Users\\PC00\\Desktop\\ASD_data\\CONTROL\\876_KBJ\\aNew\\MAGIC_T2\\\n",
      "C:\\Users\\PC00\\Desktop\\ASD_data\\CONTROL\\s4-102\\aNew\\MAGIC_T2\\\n",
      "C:\\Users\\PC00\\Desktop\\ASD_data\\CONTROL\\s4-266\\aNew\\MAGIC_T2\\\n",
      "C:\\Users\\PC00\\Desktop\\ASD_data\\CONTROL\\s4-282\\aNew\\MAGIC_T2\\\n",
      "C:\\Users\\PC00\\Desktop\\ASD_data\\CONTROL\\s4-29\\aNew\\MAGIC_T2\\\n",
      "C:\\Users\\PC00\\Desktop\\ASD_data\\CONTROL\\s4-31\\aNew\\MAGIC_T2\\\n",
      "C:\\Users\\PC00\\Desktop\\ASD_data\\CONTROL\\s4-326\\aNew\\MAGIC_T2\\\n",
      "C:\\Users\\PC00\\Desktop\\ASD_data\\CONTROL\\s4-67\\aNew\\MAGIC_T2\\\n",
      "C:\\Users\\PC00\\Desktop\\ASD_data\\CONTROL\\s4-98\\aNew\\MAGIC_T2\\\n",
      "C:\\Users\\PC00\\Desktop\\ASD_data\\CONTROL\\s6-78_SHJ\\aNew\\MAGIC_T2\\\n"
     ]
    }
   ],
   "source": [
    "for info in all_image_path:\n",
    "    print(info)    "
   ]
  },
  {
   "cell_type": "markdown",
   "id": "f975e5de",
   "metadata": {},
   "source": [
    "# 3. Make Label"
   ]
  },
  {
   "cell_type": "code",
   "execution_count": 10,
   "id": "c9d39617",
   "metadata": {},
   "outputs": [],
   "source": [
    "label=np.array([1]*203+[0]*(261-203), dtype=np.int64)"
   ]
  },
  {
   "cell_type": "code",
   "execution_count": 11,
   "id": "c2b291c7",
   "metadata": {},
   "outputs": [
    {
     "name": "stdout",
     "output_type": "stream",
     "text": [
      "261\n"
     ]
    }
   ],
   "source": [
    "print(len(label))"
   ]
  },
  {
   "cell_type": "code",
   "execution_count": 12,
   "id": "8b0e885e",
   "metadata": {},
   "outputs": [],
   "source": [
    "#n=np.unique(label, axis=0)\n",
    "#n=n.shape[0]\n",
    "\n",
    "#label=np.eye(n)[label]\n",
    "#print(n)"
   ]
  },
  {
   "cell_type": "markdown",
   "id": "d2921819",
   "metadata": {},
   "source": [
    "# 4. Divide Data path"
   ]
  },
  {
   "cell_type": "markdown",
   "id": "4a16464e",
   "metadata": {},
   "source": [
    "Fix Test set for 20"
   ]
  },
  {
   "cell_type": "code",
   "execution_count": 13,
   "id": "e016c33d",
   "metadata": {},
   "outputs": [
    {
     "name": "stdout",
     "output_type": "stream",
     "text": [
      "Test ASD Image Data :  10\n",
      "Test ASD+TC Image Data :  20\n"
     ]
    }
   ],
   "source": [
    "test_asd='C:\\\\Users\\\\PC00\\\\Desktop\\\\ASD_data\\\\ASD\\\\Test\\\\'\n",
    "test_control='C:\\\\Users\\\\PC00\\\\Desktop\\\\ASD_data\\\\CONTROL\\\\Test\\\\'\n",
    "\n",
    "test_asd_p=os.listdir(test_asd)\n",
    "test_control_p=os.listdir(test_control)\n",
    "\n",
    "#MRI_image=['SPGR_P','MAGIC_T2']\n",
    "MRI_image=['MAGIC_T2']\n",
    "test_image_path=[]\n",
    "\n",
    "for name in test_asd_p:\n",
    "    path=''\n",
    "    for image in MRI_image:\n",
    "        path=test_asd+name+'\\\\'+'aNew'+'\\\\'\n",
    "        path=path+image+'\\\\'\n",
    "        test_image_path.append(path)\n",
    "print(\"Test ASD Image Data : \" , len(test_image_path)) \n",
    "for name in test_control_p:\n",
    "    path=''\n",
    "    for image in MRI_image:\n",
    "        path=test_control+name+'\\\\'+'aNew'+'\\\\'\n",
    "        path=path+image+'\\\\'\n",
    "        test_image_path.append(path)\n",
    "        \n",
    "print(\"Test ASD+TC Image Data : \" ,len(test_image_path))"
   ]
  },
  {
   "cell_type": "code",
   "execution_count": 14,
   "id": "a7c1ffdd",
   "metadata": {},
   "outputs": [
    {
     "name": "stdout",
     "output_type": "stream",
     "text": [
      "C:\\Users\\PC00\\Desktop\\ASD_data\\ASD\\Test\\4837_KDK_DL\\aNew\\MAGIC_T2\\\n",
      "C:\\Users\\PC00\\Desktop\\ASD_data\\ASD\\Test\\4838_KKW_DL\\aNew\\MAGIC_T2\\\n",
      "C:\\Users\\PC00\\Desktop\\ASD_data\\ASD\\Test\\4839_PRK_DL\\aNew\\MAGIC_T2\\\n",
      "C:\\Users\\PC00\\Desktop\\ASD_data\\ASD\\Test\\4859_PJH_DL\\aNew\\MAGIC_T2\\\n",
      "C:\\Users\\PC00\\Desktop\\ASD_data\\ASD\\Test\\4881_JWJ\\aNew\\MAGIC_T2\\\n",
      "C:\\Users\\PC00\\Desktop\\ASD_data\\ASD\\Test\\5010_PHS\\aNew\\MAGIC_T2\\\n",
      "C:\\Users\\PC00\\Desktop\\ASD_data\\ASD\\Test\\5023_PDK\\aNew\\MAGIC_T2\\\n",
      "C:\\Users\\PC00\\Desktop\\ASD_data\\ASD\\Test\\5036_HKM\\aNew\\MAGIC_T2\\\n",
      "C:\\Users\\PC00\\Desktop\\ASD_data\\ASD\\Test\\5102_KMJ\\aNew\\MAGIC_T2\\\n",
      "C:\\Users\\PC00\\Desktop\\ASD_data\\ASD\\Test\\5115_HW\\aNew\\MAGIC_T2\\\n",
      "C:\\Users\\PC00\\Desktop\\ASD_data\\CONTROL\\Test\\4371_SHJ\\aNew\\MAGIC_T2\\\n",
      "C:\\Users\\PC00\\Desktop\\ASD_data\\CONTROL\\Test\\4582_MSH\\aNew\\MAGIC_T2\\\n",
      "C:\\Users\\PC00\\Desktop\\ASD_data\\CONTROL\\Test\\4808_KTH\\aNew\\MAGIC_T2\\\n",
      "C:\\Users\\PC00\\Desktop\\ASD_data\\CONTROL\\Test\\4917_JSO\\aNew\\MAGIC_T2\\\n",
      "C:\\Users\\PC00\\Desktop\\ASD_data\\CONTROL\\Test\\4931_LSY\\aNew\\MAGIC_T2\\\n",
      "C:\\Users\\PC00\\Desktop\\ASD_data\\CONTROL\\Test\\5158_KJH\\aNew\\MAGIC_T2\\\n",
      "C:\\Users\\PC00\\Desktop\\ASD_data\\CONTROL\\Test\\5301_KKY\\aNew\\MAGIC_T2\\\n",
      "C:\\Users\\PC00\\Desktop\\ASD_data\\CONTROL\\Test\\5341_KSM\\aNew\\MAGIC_T2\\\n",
      "C:\\Users\\PC00\\Desktop\\ASD_data\\CONTROL\\Test\\5533_BSH\\aNew\\MAGIC_T2\\\n",
      "C:\\Users\\PC00\\Desktop\\ASD_data\\CONTROL\\Test\\5660_KSY\\aNew\\MAGIC_T2\\\n"
     ]
    }
   ],
   "source": [
    "for p in test_image_path:\n",
    "    print(p)"
   ]
  },
  {
   "cell_type": "code",
   "execution_count": 15,
   "id": "d9d80d22",
   "metadata": {},
   "outputs": [],
   "source": [
    "test_label=np.array([1]*10+[0]*10, dtype=np.int64)"
   ]
  },
  {
   "cell_type": "code",
   "execution_count": 16,
   "id": "265267ce",
   "metadata": {},
   "outputs": [
    {
     "name": "stdout",
     "output_type": "stream",
     "text": [
      "20\n"
     ]
    }
   ],
   "source": [
    "print(len(test_label))"
   ]
  },
  {
   "cell_type": "code",
   "execution_count": 17,
   "id": "a0830195",
   "metadata": {},
   "outputs": [
    {
     "name": "stdout",
     "output_type": "stream",
     "text": [
      "2\n"
     ]
    }
   ],
   "source": [
    "n=np.unique(test_label, axis=0)\n",
    "n=n.shape[0]\n",
    "\n",
    "test_label=np.eye(n)[test_label]\n",
    "print(n)"
   ]
  },
  {
   "cell_type": "markdown",
   "id": "ab26f242",
   "metadata": {},
   "source": [
    "Train : Val = 0.8 : 0.2"
   ]
  },
  {
   "cell_type": "code",
   "execution_count": 18,
   "id": "9bf4142b",
   "metadata": {},
   "outputs": [],
   "source": [
    "#train_path, val_path, train_label, val_label=train_test_split(all_image_path, label, test_size=0.0, random_state=CFG['SEED'])"
   ]
  },
  {
   "cell_type": "code",
   "execution_count": 19,
   "id": "3b0f216a",
   "metadata": {},
   "outputs": [],
   "source": [
    "#print(len(train_path), len(val_path), len(train_label), len(val_label))"
   ]
  },
  {
   "cell_type": "markdown",
   "id": "a9aad2d7",
   "metadata": {},
   "source": [
    "train_asd=0\n",
    "train_tc=0\n",
    "for path in train_path:\n",
    "    if 'CONTROL' in path:\n",
    "        train_tc+=1\n",
    "    \n",
    "train_asd=len(train_path)-train_tc      \n",
    "print(\"Train ASD : \", train_asd)\n",
    "print(\"Train TC : \", train_tc)"
   ]
  },
  {
   "cell_type": "markdown",
   "id": "826694f7",
   "metadata": {},
   "source": [
    "val_asd=0\n",
    "val_tc=0\n",
    "for path in val_path:\n",
    "    if 'CONTROL' in path:\n",
    "        val_tc+=1\n",
    "    \n",
    "val_asd=len(val_path)-val_tc      \n",
    "print(\"Val ASD : \", val_asd)\n",
    "print(\"Val TC : \", val_tc)"
   ]
  },
  {
   "cell_type": "code",
   "execution_count": 20,
   "id": "c114fe63",
   "metadata": {},
   "outputs": [],
   "source": [
    "train_path=all_image_path\n",
    "train_label=label"
   ]
  },
  {
   "cell_type": "code",
   "execution_count": 21,
   "id": "ee525771",
   "metadata": {},
   "outputs": [],
   "source": [
    "import pandas as pd\n",
    "\n",
    "df=pd.DataFrame({'train_path' : all_image_path,\n",
    "                'train_label' : label})"
   ]
  },
  {
   "cell_type": "code",
   "execution_count": 22,
   "id": "5374ca54",
   "metadata": {},
   "outputs": [
    {
     "name": "stdout",
     "output_type": "stream",
     "text": [
      "                                          train_path  train_label\n",
      "0  C:\\Users\\PC00\\Desktop\\ASD_data\\ASD\\1101_ASY\\aN...            1\n",
      "1  C:\\Users\\PC00\\Desktop\\ASD_data\\ASD\\1111_KJW\\aN...            1\n",
      "2  C:\\Users\\PC00\\Desktop\\ASD_data\\ASD\\1113_LJH\\aN...            1\n",
      "3  C:\\Users\\PC00\\Desktop\\ASD_data\\ASD\\1321_KSH\\aN...            1\n",
      "4  C:\\Users\\PC00\\Desktop\\ASD_data\\ASD\\1332_LJM\\aN...            1\n"
     ]
    }
   ],
   "source": [
    "print(df.head())"
   ]
  },
  {
   "cell_type": "code",
   "execution_count": 23,
   "id": "8f806e41",
   "metadata": {},
   "outputs": [],
   "source": [
    "df_shuffled=df.sample(frac=1).reset_index(drop=True)"
   ]
  },
  {
   "cell_type": "code",
   "execution_count": 24,
   "id": "a4463a95",
   "metadata": {},
   "outputs": [
    {
     "name": "stdout",
     "output_type": "stream",
     "text": [
      "                                          train_path  train_label\n",
      "0  C:\\Users\\PC00\\Desktop\\ASD_data\\ASD\\2126_SES\\aN...            1\n",
      "1  C:\\Users\\PC00\\Desktop\\ASD_data\\ASD\\4740_KDH\\aN...            1\n",
      "2  C:\\Users\\PC00\\Desktop\\ASD_data\\ASD\\5296_KTY\\aN...            1\n",
      "3  C:\\Users\\PC00\\Desktop\\ASD_data\\ASD\\3070_CYY\\aN...            1\n",
      "4  C:\\Users\\PC00\\Desktop\\ASD_data\\ASD\\4997_KMH\\aN...            1\n"
     ]
    }
   ],
   "source": [
    "print(df_shuffled.head())"
   ]
  },
  {
   "cell_type": "code",
   "execution_count": 25,
   "id": "699f9ba8",
   "metadata": {},
   "outputs": [],
   "source": [
    "train_path=df_shuffled['train_path'].values\n",
    "train_label=df_shuffled['train_label'].values"
   ]
  },
  {
   "cell_type": "code",
   "execution_count": 26,
   "id": "d9edff57",
   "metadata": {},
   "outputs": [
    {
     "name": "stdout",
     "output_type": "stream",
     "text": [
      "2\n"
     ]
    }
   ],
   "source": [
    "n=np.unique(train_label, axis=0)\n",
    "n=n.shape[0]\n",
    "\n",
    "train_label=np.eye(n)[train_label]\n",
    "print(n)"
   ]
  },
  {
   "cell_type": "code",
   "execution_count": 27,
   "id": "ef1dea04",
   "metadata": {},
   "outputs": [
    {
     "name": "stdout",
     "output_type": "stream",
     "text": [
      "261 261\n"
     ]
    }
   ],
   "source": [
    "print(len(train_path), len(train_label))"
   ]
  },
  {
   "cell_type": "markdown",
   "id": "ed9567dd",
   "metadata": {},
   "source": [
    "# 5. Transform and augmentation"
   ]
  },
  {
   "cell_type": "markdown",
   "id": "f7f3b23f",
   "metadata": {},
   "source": [
    "## Transform"
   ]
  },
  {
   "cell_type": "markdown",
   "id": "8f4801d5",
   "metadata": {},
   "source": [
    "### Resize"
   ]
  },
  {
   "cell_type": "code",
   "execution_count": 28,
   "id": "966bfa51",
   "metadata": {},
   "outputs": [],
   "source": [
    "pad_image=[[0]*256]*256"
   ]
  },
  {
   "cell_type": "code",
   "execution_count": 29,
   "id": "792d50b9",
   "metadata": {},
   "outputs": [],
   "source": [
    "def T1_resize(img_volume, plus_image):\n",
    "    #(256, 256, 188)\n",
    "    \n",
    "    want_channel=188\n",
    "    original_channel=img_volume.shape[0]\n",
    "    difference=abs(want_channel-original_channel)\n",
    "  \n",
    "    #차이가 짝수이면\n",
    "    if difference==0:\n",
    "        return img_volume\n",
    "    else:\n",
    "        img_volume=list(img_volume)\n",
    "        if difference%2==0:\n",
    "            #front & behind\n",
    "            for _ in range(difference//2):\n",
    "                img_volume.insert(0, plus_image)\n",
    "                img_volume.insert(len(img_volume), plus_image)\n",
    "                \n",
    "            return np.array(img_volume)\n",
    "        \n",
    "        else:\n",
    "            #front\n",
    "            for _ in range(difference//2):\n",
    "                img_volume.insert(0, plus_image)\n",
    "            #behind    \n",
    "            for _ in range(difference//2+1):\n",
    "                img_volume.insert(len(img_volume), plus_image)\n",
    "                \n",
    "            return np.array(img_volume)"
   ]
  },
  {
   "cell_type": "code",
   "execution_count": 30,
   "id": "5bfd3127",
   "metadata": {},
   "outputs": [],
   "source": [
    "def T2_resize(img_volume, plus_image):\n",
    "    #(256, 256, 34)\n",
    "    \n",
    "    want_channel=34\n",
    "    original_channel=img_volume.shape[0]\n",
    "    difference=abs(want_channel-original_channel)\n",
    "  \n",
    "    if difference==0:\n",
    "        return img_volume\n",
    "    else:\n",
    "        img_volume=list(img_volume)\n",
    "        #차이가 짝수이면\n",
    "        if difference%2==0:\n",
    "            #front & behind\n",
    "            for _ in range(difference//2):\n",
    "                img_volume.insert(0, plus_image)\n",
    "                img_volume.insert(len(img_volume), plus_image)\n",
    "                \n",
    "            return np.array(img_volume)\n",
    "        \n",
    "        else:\n",
    "            #front\n",
    "            for _ in range(difference//2):\n",
    "                img_volume.insert(0, plus_image)\n",
    "            #behind    \n",
    "            for _ in range(difference//2+1):\n",
    "                img_volume.insert(len(img_volume), plus_image)\n",
    "                \n",
    "            return np.array(img_volume)"
   ]
  },
  {
   "cell_type": "markdown",
   "id": "e5dcc4a9",
   "metadata": {},
   "source": [
    "### cropping"
   ]
  },
  {
   "cell_type": "code",
   "execution_count": 31,
   "id": "3e183399",
   "metadata": {},
   "outputs": [],
   "source": [
    "def T1_crop(img_volume):\n",
    "    area=(25, 45, 215, 210)\n",
    "    img_crop_volume=[]\n",
    "    for i in range(img_volume.shape[0]):\n",
    "        img=img_volume[i]\n",
    "    \n",
    "        img=Image.fromarray(np.uint16(img))\n",
    "\n",
    "        img=img.crop(area)\n",
    "        \n",
    "        img=np.array(img)\n",
    "        img=list(img)\n",
    "        img_crop_volume.append(img)\n",
    "  \n",
    "    img_crop_volume=np.array(img_crop_volume)\n",
    "    return img_crop_volume"
   ]
  },
  {
   "cell_type": "code",
   "execution_count": 32,
   "id": "63055ddd",
   "metadata": {},
   "outputs": [],
   "source": [
    "def T2_crop(img_volume):\n",
    "    area=(40, 20, 225, 225)\n",
    "    img_crop_volume=[]\n",
    "    for i in range(img_volume.shape[0]):\n",
    "        img=img_volume[i]\n",
    "    \n",
    "        img=Image.fromarray(np.uint16(img))\n",
    "\n",
    "        img=img.crop(area)\n",
    "        \n",
    "        img=np.array(img)\n",
    "        img=list(img)\n",
    "        img_crop_volume.append(img)\n",
    "  \n",
    "    img_crop_volume=np.array(img_crop_volume)\n",
    "    return img_crop_volume"
   ]
  },
  {
   "cell_type": "markdown",
   "id": "5658c23b",
   "metadata": {},
   "source": [
    "### MinMaxScaler"
   ]
  },
  {
   "cell_type": "code",
   "execution_count": 33,
   "id": "4600863e",
   "metadata": {},
   "outputs": [],
   "source": [
    "class MinMaxScaler3D(MinMaxScaler):\n",
    "    def fit_transform(self, X,y=None):\n",
    "        x=np.reshape(X, newshape=(X.shape[0]*X.shape[1], X.shape[2]))\n",
    "        return np.reshape(super().fit_transform(x, y=y), newshape=X.shape)"
   ]
  },
  {
   "cell_type": "code",
   "execution_count": 34,
   "id": "3edb114d",
   "metadata": {},
   "outputs": [],
   "source": [
    "scaler = MinMaxScaler3D()"
   ]
  },
  {
   "cell_type": "markdown",
   "id": "21ac00a8",
   "metadata": {},
   "source": [
    "## Augmentation"
   ]
  },
  {
   "cell_type": "code",
   "execution_count": null,
   "id": "d9990be5",
   "metadata": {},
   "outputs": [],
   "source": []
  },
  {
   "cell_type": "markdown",
   "id": "60173399",
   "metadata": {},
   "source": [
    "# 6. Get Image from data path"
   ]
  },
  {
   "cell_type": "markdown",
   "id": "cce9d65f",
   "metadata": {},
   "source": [
    "Convert to numpy (dicom -> numpy)"
   ]
  },
  {
   "cell_type": "code",
   "execution_count": 35,
   "id": "d0e6f1fc",
   "metadata": {},
   "outputs": [],
   "source": [
    "def convert_to_numpy(sitk_volume, size):\n",
    "    \"\"\"convert sitk image to numpy volume\"\"\"\n",
    "    img_volume = sitk.GetArrayFromImage(sitk_volume)\n",
    "    img_volume = img_volume.transpose(2,1,0)\n",
    "    #print(img_volume.shape)\n",
    "    if img_volume.shape[0]!=CFG['Image_Size']:\n",
    "        img_volume = cv2.resize(img_volume, dsize=(CFG['Image_Size'], CFG['Image_Size']))\n",
    "    \n",
    "    #img_volume = img_volume.transpose(1,2,0)\n",
    "    \n",
    "    return img_volume"
   ]
  },
  {
   "cell_type": "code",
   "execution_count": 36,
   "id": "50a5c9a6",
   "metadata": {},
   "outputs": [],
   "source": [
    "def get_image(path, scaler):\n",
    "    reader=sitk.ImageSeriesReader()\n",
    "    dicom_names=reader.GetGDCMSeriesFileNames(path)\n",
    "    \n",
    "    #print(\"Number of Series : \", len(dicom_names))\n",
    "    \n",
    "    reader.SetFileNames(dicom_names)\n",
    "    \n",
    "    image=reader.Execute()\n",
    "    size=image.GetSize()\n",
    "    #print(\"Original size of series : \", size[0], size[1], size[2])\n",
    "    img_volume=convert_to_numpy(image, size)\n",
    "    \n",
    "    img_volume=img_volume.transpose(2,1,0)\n",
    "    \n",
    "    if 'SPGR_P' in path:\n",
    "        img_volume=T1_resize(img_volume, pad_image)\n",
    "        img_volume=T1_crop(img_volume)\n",
    "    elif 'MAGIC_T2' in path:\n",
    "        img_volume=T2_resize(img_volume, pad_image)\n",
    "        img_volume=T2_crop(img_volume)\n",
    "    #print(\"Convert size of series : \", img_volume.shape[0], img_volume.shape[1], img_volume.shape[2])\n",
    "    img_volume = scaler.fit_transform(img_volume)\n",
    "    return img_volume"
   ]
  },
  {
   "cell_type": "markdown",
   "id": "cab8ffcf",
   "metadata": {},
   "source": [
    "# 7. CustomDataset"
   ]
  },
  {
   "cell_type": "code",
   "execution_count": 37,
   "id": "9d84e9c8",
   "metadata": {},
   "outputs": [],
   "source": [
    "#T1+T2\n",
    "class CustomDataset(Dataset):\n",
    "    def __init__(self, path,labels,scaler, transforms=None):\n",
    "        self.path=path\n",
    "        self.labels=torch.from_numpy(labels)\n",
    "        self.transforms=transforms\n",
    "        self.scaler=scaler\n",
    "    def __getitem__(self, idx):\n",
    "        #add label\n",
    "        state=self.labels[idx]\n",
    "        state=state.cuda()\n",
    "        \n",
    "        image=get_image(self.path[idx], self.scaler)\n",
    "        image=np.array(image, dtype=np.int64)\n",
    "        image=torch.from_numpy(image)\n",
    "        \n",
    "        image=torch.reshape(image,(1,image.shape[0], image.shape[1], image.shape[2]))\n",
    "        \n",
    "        if self.transforms:\n",
    "            image = self.transforms(image)\n",
    "        \n",
    "        image=image.cuda()\n",
    "        \n",
    "        return image, state\n",
    "        \n",
    "    def __len__(self):\n",
    "        return len(self.labels)   "
   ]
  },
  {
   "cell_type": "code",
   "execution_count": 38,
   "id": "160f4097",
   "metadata": {},
   "outputs": [],
   "source": [
    "train_data=CustomDataset(train_path, train_label, scaler)\n",
    "#val_data=CustomDataset(val_path, val_label)\n",
    "\n",
    "test_data=CustomDataset(test_image_path, test_label, scaler) # 나중에 augmentation할 때 적용 하면 안됨"
   ]
  },
  {
   "cell_type": "code",
   "execution_count": 39,
   "id": "06f88af2",
   "metadata": {},
   "outputs": [
    {
     "name": "stdout",
     "output_type": "stream",
     "text": [
      "57\n"
     ]
    }
   ],
   "source": [
    "n=random.randint(0,len(train_label))\n",
    "print(n)"
   ]
  },
  {
   "cell_type": "code",
   "execution_count": 40,
   "id": "39e32150",
   "metadata": {},
   "outputs": [
    {
     "data": {
      "text/plain": [
       "(tensor([[[[0, 0, 0,  ..., 0, 0, 0],\n",
       "           [0, 0, 0,  ..., 0, 0, 0],\n",
       "           [0, 0, 0,  ..., 0, 0, 0],\n",
       "           ...,\n",
       "           [0, 0, 0,  ..., 0, 0, 0],\n",
       "           [0, 0, 0,  ..., 0, 0, 0],\n",
       "           [0, 0, 0,  ..., 0, 0, 0]],\n",
       " \n",
       "          [[0, 0, 0,  ..., 0, 0, 0],\n",
       "           [0, 0, 0,  ..., 0, 0, 0],\n",
       "           [0, 0, 0,  ..., 0, 0, 0],\n",
       "           ...,\n",
       "           [0, 0, 0,  ..., 0, 0, 0],\n",
       "           [0, 0, 0,  ..., 0, 0, 0],\n",
       "           [0, 0, 0,  ..., 0, 0, 0]],\n",
       " \n",
       "          [[0, 0, 0,  ..., 0, 0, 0],\n",
       "           [0, 0, 0,  ..., 0, 0, 0],\n",
       "           [0, 0, 0,  ..., 0, 0, 0],\n",
       "           ...,\n",
       "           [0, 0, 0,  ..., 0, 0, 0],\n",
       "           [0, 0, 0,  ..., 0, 0, 0],\n",
       "           [0, 0, 0,  ..., 0, 0, 0]],\n",
       " \n",
       "          ...,\n",
       " \n",
       "          [[0, 0, 0,  ..., 0, 0, 0],\n",
       "           [0, 0, 0,  ..., 0, 0, 0],\n",
       "           [0, 0, 0,  ..., 0, 0, 0],\n",
       "           ...,\n",
       "           [0, 0, 0,  ..., 0, 0, 0],\n",
       "           [0, 0, 0,  ..., 0, 0, 0],\n",
       "           [0, 0, 0,  ..., 0, 0, 0]],\n",
       " \n",
       "          [[0, 0, 0,  ..., 0, 0, 0],\n",
       "           [0, 0, 0,  ..., 0, 0, 0],\n",
       "           [0, 0, 0,  ..., 0, 0, 0],\n",
       "           ...,\n",
       "           [0, 0, 0,  ..., 0, 0, 0],\n",
       "           [0, 0, 0,  ..., 0, 0, 0],\n",
       "           [0, 0, 0,  ..., 0, 0, 0]],\n",
       " \n",
       "          [[0, 0, 0,  ..., 0, 0, 0],\n",
       "           [0, 0, 0,  ..., 0, 0, 0],\n",
       "           [0, 0, 0,  ..., 0, 0, 0],\n",
       "           ...,\n",
       "           [0, 0, 0,  ..., 0, 0, 0],\n",
       "           [0, 0, 0,  ..., 0, 0, 0],\n",
       "           [0, 0, 0,  ..., 0, 0, 0]]]], device='cuda:0'),\n",
       " tensor([1., 0.], device='cuda:0', dtype=torch.float64))"
      ]
     },
     "execution_count": 40,
     "metadata": {},
     "output_type": "execute_result"
    }
   ],
   "source": [
    "train_data.__getitem__(n)"
   ]
  },
  {
   "cell_type": "code",
   "execution_count": 41,
   "id": "e7693685",
   "metadata": {},
   "outputs": [],
   "source": [
    "train_dataloader=DataLoader(train_data, batch_size=CFG['BATCH_SIZE'],shuffle=True)\n",
    "#validation_dataloader=DataLoader(val_data, batch_size=CFG['BATCH_SIZE'], shuffle=True)\n",
    "test_dataloader=DataLoader(test_data, batch_size=CFG['BATCH_SIZE'],shuffle=True)"
   ]
  },
  {
   "cell_type": "code",
   "execution_count": 42,
   "id": "e1d8ea37",
   "metadata": {},
   "outputs": [],
   "source": [
    "train_features, train_labels=next(iter(train_dataloader))"
   ]
  },
  {
   "cell_type": "markdown",
   "id": "5e100a00",
   "metadata": {},
   "source": [
    "# 8. Model"
   ]
  },
  {
   "cell_type": "markdown",
   "id": "d90d4ee7",
   "metadata": {},
   "source": [
    "## 3D CSResNet Model = CS Block + 3D ResNet Model"
   ]
  },
  {
   "cell_type": "markdown",
   "id": "47fd62b2",
   "metadata": {},
   "source": [
    "## CS Block\n",
    "Channel block + spatial block"
   ]
  },
  {
   "cell_type": "code",
   "execution_count": 43,
   "id": "63e85709",
   "metadata": {},
   "outputs": [],
   "source": [
    "class Flatten(nn.Module):\n",
    "    def forward(self, x):\n",
    "        return x.view(x.size(0), -1)\n",
    "\n",
    "class ChannelGate(nn.Module):\n",
    "    def __init__(self, gate_channels, reduction_ratio=16, pool_types=['avg','max']):\n",
    "        super(ChannelGate, self).__init__()\n",
    "        self.gate_channels=gate_channels\n",
    "        self.mlp=nn.Sequential(\n",
    "                        Flatten(),\n",
    "                        nn.Linear(gate_channels, gate_channels // reduction_ratio),\n",
    "                        nn.ReLU(),\n",
    "                        nn.Linear(gate_channels // reduction_ratio, gate_channels)\n",
    "        )\n",
    "        self.pool_types=pool_types\n",
    "        \n",
    "    def forward(self, x):\n",
    "        channel_att_sum=None\n",
    "        #print(\"Input of Channel gate shape : \", x.size(0), x.size(1), x.size(2), x.size(3)) # 8 64 17 64 64\n",
    "        for pool_type in self.pool_types:\n",
    "            if pool_type=='avg':\n",
    "                avg_pool = F.avg_pool3d( x, (x.size(2), x.size(3), x.size(4)), stride=(x.size(2), x.size(3), x.size(4)))\n",
    "                channel_att_raw = self.mlp( avg_pool )\n",
    "            elif pool_type=='max':\n",
    "                max_pool = F.max_pool3d( x, (x.size(2), x.size(3), x.size(4)), stride=(x.size(2), x.size(3), x.size(4)))\n",
    "                channel_att_raw = self.mlp( max_pool )\n",
    "            elif pool_type=='lp':\n",
    "                lp_pool = F.lp_pool3d( x, (x.size(2), x.size(3), x.size(4)), stride=(x.size(2), x.size(3), x.size(4)))\n",
    "                channel_att_raw = self.mlp( lp_pool )\n",
    "                \n",
    "            if channel_att_sum is None:\n",
    "                channel_att_sum=channel_att_raw\n",
    "            else:\n",
    "                channel_att_sum=channel_att_sum+channel_att_raw\n",
    "                \n",
    "        scale = F.sigmoid(channel_att_sum).unsqueeze(2).unsqueeze(3).unsqueeze(4).expand_as(x)\n",
    "        return x*scale"
   ]
  },
  {
   "cell_type": "code",
   "execution_count": 44,
   "id": "21fb2c19",
   "metadata": {},
   "outputs": [],
   "source": [
    "class BasicConv(nn.Module):\n",
    "    def __init__(self, in_planes, out_planes, kernel_size, stride=1, padding=0, dilation=1, groups=1, relu=True, bn=True, bias=False):\n",
    "        super(BasicConv, self).__init__()\n",
    "        self.out_channels = out_planes\n",
    "        self.conv = nn.Conv3d(in_planes, out_planes, kernel_size=kernel_size, stride=stride, padding=padding, dilation=dilation, groups=groups, bias=bias)\n",
    "        self.bn = nn.BatchNorm3d(out_planes,eps=1e-5, momentum=0.01, affine=True) if bn else None\n",
    "        self.relu = nn.ReLU() if relu else None\n",
    "\n",
    "    def forward(self, x):\n",
    "        x = self.conv(x)\n",
    "        if self.bn is not None:\n",
    "            x = self.bn(x)\n",
    "        if self.relu is not None:\n",
    "            x = self.relu(x)\n",
    "        return x"
   ]
  },
  {
   "cell_type": "code",
   "execution_count": 45,
   "id": "0e3fd79f",
   "metadata": {},
   "outputs": [],
   "source": [
    "class ChannelPool(nn.Module):\n",
    "    def forward(self, x):\n",
    "        return torch.cat( (torch.max(x,1)[0].unsqueeze(1), torch.mean(x,1).unsqueeze(1)), dim=1 )\n",
    "\n",
    "class SpatialGate(nn.Module):\n",
    "    def __init__(self):\n",
    "        super(SpatialGate, self).__init__()\n",
    "        kernel_size=7\n",
    "        self.compress=ChannelPool()\n",
    "        self.spatial=BasicConv(2,1, kernel_size, stride=1, padding=(kernel_size-1)//2, relu=False)\n",
    "        \n",
    "    def forward(self, x):\n",
    "        x_compress=self.compress(x)\n",
    "        x_out=self.spatial(x_compress)\n",
    "        scale=F.sigmoid(x_out) #broadcasting\n",
    "        return x*scale"
   ]
  },
  {
   "cell_type": "code",
   "execution_count": 46,
   "id": "96ac86ac",
   "metadata": {},
   "outputs": [],
   "source": [
    "class CBAM(nn.Module):\n",
    "    def __init__(self, gate_channels, reduction_ratio=16, pool_types=['avg','max'], no_spatial=False):\n",
    "        super(CBAM, self).__init__()\n",
    "        self.ChannelGate=ChannelGate(gate_channels, reduction_ratio, pool_types)\n",
    "        self.no_spatial=no_spatial\n",
    "        if not no_spatial:\n",
    "            self.SpatialGate=SpatialGate()\n",
    "            \n",
    "    def forward(self, x):\n",
    "        x_out=self.ChannelGate(x)\n",
    "        if not self.no_spatial:\n",
    "            x_out=self.SpatialGate(x_out)\n",
    "            \n",
    "        return x_out"
   ]
  },
  {
   "cell_type": "markdown",
   "id": "82410553",
   "metadata": {},
   "source": [
    "## 3D ResNet"
   ]
  },
  {
   "cell_type": "code",
   "execution_count": 47,
   "id": "7a0f23bb",
   "metadata": {},
   "outputs": [],
   "source": [
    "def get_inplanes():\n",
    "    return [64, 128, 256, 512]\n",
    "\n",
    "def conv3x3x3(in_planes, out_planes, stride=1):\n",
    "    return nn.Conv3d(in_planes,\n",
    "                     out_planes,\n",
    "                     kernel_size=3,\n",
    "                     stride=stride,\n",
    "                     padding=1,\n",
    "                     bias=False)\n",
    "\n",
    "def conv1x1x1(in_planes, out_planes, stride=1):\n",
    "    return nn.Conv3d(in_planes,\n",
    "                     out_planes,\n",
    "                     kernel_size=1,\n",
    "                     stride=stride,\n",
    "                     bias=False)\n",
    "\n",
    "class BasicBlock(nn.Module):\n",
    "    expansion = 1\n",
    "\n",
    "    def __init__(self, in_planes, planes, stride=1, downsample=None, CBAM_use=False):\n",
    "        super().__init__()\n",
    "\n",
    "        self.conv1 = conv3x3x3(in_planes, planes, stride)\n",
    "        self.bn1 = nn.BatchNorm3d(planes)\n",
    "        self.relu = nn.ReLU(inplace=True)\n",
    "        self.conv2 = conv3x3x3(planes, planes)\n",
    "        self.bn2 = nn.BatchNorm3d(planes)\n",
    "        self.downsample = downsample\n",
    "        self.stride = stride\n",
    "        \n",
    "        if CBAM:\n",
    "            self.cbam=CBAM(planes, 16)\n",
    "        else:\n",
    "            self.cbam=None\n",
    "\n",
    "    def forward(self, x):\n",
    "        residual = x\n",
    "\n",
    "        out = self.conv1(x)\n",
    "        out = self.bn1(out)\n",
    "        out = self.relu(out)\n",
    "\n",
    "        out = self.conv2(out)\n",
    "        out = self.bn2(out)\n",
    "\n",
    "        if self.downsample is not None:\n",
    "            residual = self.downsample(x)\n",
    "            \n",
    "        if not self.cbam is None:\n",
    "            out=self.cbam(out)\n",
    "\n",
    "        out += residual\n",
    "        out = self.relu(out)\n",
    "        \n",
    "        return out"
   ]
  },
  {
   "cell_type": "code",
   "execution_count": 48,
   "id": "e5bdca3c",
   "metadata": {},
   "outputs": [],
   "source": [
    "class ResNet18(nn.Module):\n",
    "    def __init__(self, \n",
    "                 block, #Basicblock\n",
    "                 layers, #[2,2,2,2]\n",
    "                 block_inplanes, #[64, 128, 256, 512]\n",
    "                 in_channels, #1\n",
    "                 out_channels, #64\n",
    "                 shortcut_type='B',\n",
    "                 att_type=None,\n",
    "                 stride=2, \n",
    "                 n_classes=2): #1, 64\n",
    "        super().__init__()\n",
    "\n",
    "        self.in_planes=block_inplanes[0]\n",
    "        self.no_max_pool=False\n",
    "\n",
    "        self.conv1=nn.Conv3d(in_channels, self.in_planes, kernel_size=(7,7,7), stride=(1,2,2), padding=(7//2,3,3), bias=False)\n",
    "        self.bn1=nn.BatchNorm3d(out_channels)\n",
    "        self.relu=nn.ReLU(inplace=True) #? -> 기존의 데이터를 연산의 결괏값으로 대체하는 것\n",
    "        self.maxpool=nn.MaxPool3d(kernel_size=3, stride=2, padding=1)\n",
    "        \n",
    "        self.layer1=self._make_layer(block, block_inplanes[0], layers[0], shortcut_type)\n",
    "        self.layer2=self._make_layer(block, block_inplanes[1], layers[1], shortcut_type, stride=2)\n",
    "        self.layer3=self._make_layer(block, block_inplanes[2], layers[2], shortcut_type, stride=2)\n",
    "        self.layer4=self._make_layer(block, block_inplanes[3], layers[3], shortcut_type, stride=2)\n",
    "\n",
    "        self.avgpool = nn.AdaptiveAvgPool3d((1,1,1))\n",
    "        self.fc=nn.Linear(block_inplanes[3]*block.expansion, n_classes)\n",
    "        self.sigmoid=torch.nn.Sigmoid()\n",
    "        self.dropout=nn.Dropout(0.2)\n",
    "        \n",
    "        if att_type=='BAM':\n",
    "            self.bam1=BAM(64*block.expansion)\n",
    "            self.bam2=BAM(128*block.expansion)\n",
    "            self.bam3=BAM(256*block.expansion)\n",
    "        else:\n",
    "            self.bam1, self.bam2, self.bam3=None, None, None\n",
    "        \n",
    "        for m in self.modules():\n",
    "            if isinstance(m, nn.Conv3d):\n",
    "                nn.init.kaiming_normal_(m.weight, mode='fan_out', nonlinearity='relu') # He initialization\n",
    "            elif isinstance(m, nn.BatchNorm3d):\n",
    "                nn.init.constant_(m.weight, 1) # 초기값  설정\n",
    "                nn.init.constant_(m.bias, 0)\n",
    "\n",
    "    def _make_layer(self, block, planes, blocks, shortcut_type, stride=1):\n",
    "        downsample=None\n",
    "        if stride!=1 or self.in_planes != planes*block.expansion:\n",
    "            if shortcut_type=='A':\n",
    "                downsample=partial(self._dwonsample_basic_block, planes=planes * block.expansion, stride=stride)\n",
    "            else:\n",
    "                downsample=nn.Sequential(\n",
    "                    conv1x1x1(self.in_planes, planes*block.expansion, stride),\n",
    "                    nn.BatchNorm3d(planes*block.expansion),\n",
    "                )\n",
    "\n",
    "        layers=[]\n",
    "        layers.append(\n",
    "            block(in_planes=self.in_planes, planes=planes, stride=stride, downsample=downsample, CBAM_use=True),\n",
    "        )\n",
    "        \n",
    "\n",
    "        self.in_planes=planes*block.expansion\n",
    "        for i in range(1, blocks):\n",
    "            layers.append(block(self.in_planes, planes, CBAM_use=True))\n",
    "\n",
    "        return nn.Sequential(*layers)\n",
    "\n",
    "    def forward(self, x):\n",
    "        x=self.conv1(x)\n",
    "        x=self.bn1(x)\n",
    "        x=self.relu(x)\n",
    "        if not self.no_max_pool:\n",
    "            x=self.maxpool(x)\n",
    "\n",
    "        x=self.layer1(x)\n",
    "        x=self.dropout(x)\n",
    "        x=self.layer2(x)\n",
    "        x=self.dropout(x)\n",
    "        x=self.layer3(x)\n",
    "        x=self.dropout(x)\n",
    "        x=self.layer4(x)\n",
    "        x=self.dropout(x)\n",
    "\n",
    "        x=self.avgpool(x)\n",
    "\n",
    "        x=x.view(x.size(0), -1)\n",
    "        x=self.fc(x)\n",
    "        x=self.sigmoid(x)\n",
    "        #print('out : ', x.shape)\n",
    "        return x"
   ]
  },
  {
   "cell_type": "code",
   "execution_count": 49,
   "id": "1a352131",
   "metadata": {},
   "outputs": [],
   "source": [
    "model=ResNet18(BasicBlock, [2,2,2,2], get_inplanes(), 1, 64)"
   ]
  },
  {
   "cell_type": "code",
   "execution_count": 50,
   "id": "a0a25408",
   "metadata": {},
   "outputs": [],
   "source": [
    "model=model.to(device)"
   ]
  },
  {
   "cell_type": "code",
   "execution_count": 51,
   "id": "e357022b",
   "metadata": {},
   "outputs": [
    {
     "data": {
      "text/plain": [
       "ResNet18(\n",
       "  (conv1): Conv3d(1, 64, kernel_size=(7, 7, 7), stride=(1, 2, 2), padding=(3, 3, 3), bias=False)\n",
       "  (bn1): BatchNorm3d(64, eps=1e-05, momentum=0.1, affine=True, track_running_stats=True)\n",
       "  (relu): ReLU(inplace=True)\n",
       "  (maxpool): MaxPool3d(kernel_size=3, stride=2, padding=1, dilation=1, ceil_mode=False)\n",
       "  (layer1): Sequential(\n",
       "    (0): BasicBlock(\n",
       "      (conv1): Conv3d(64, 64, kernel_size=(3, 3, 3), stride=(1, 1, 1), padding=(1, 1, 1), bias=False)\n",
       "      (bn1): BatchNorm3d(64, eps=1e-05, momentum=0.1, affine=True, track_running_stats=True)\n",
       "      (relu): ReLU(inplace=True)\n",
       "      (conv2): Conv3d(64, 64, kernel_size=(3, 3, 3), stride=(1, 1, 1), padding=(1, 1, 1), bias=False)\n",
       "      (bn2): BatchNorm3d(64, eps=1e-05, momentum=0.1, affine=True, track_running_stats=True)\n",
       "      (cbam): CBAM(\n",
       "        (ChannelGate): ChannelGate(\n",
       "          (mlp): Sequential(\n",
       "            (0): Flatten()\n",
       "            (1): Linear(in_features=64, out_features=4, bias=True)\n",
       "            (2): ReLU()\n",
       "            (3): Linear(in_features=4, out_features=64, bias=True)\n",
       "          )\n",
       "        )\n",
       "        (SpatialGate): SpatialGate(\n",
       "          (compress): ChannelPool()\n",
       "          (spatial): BasicConv(\n",
       "            (conv): Conv3d(2, 1, kernel_size=(7, 7, 7), stride=(1, 1, 1), padding=(3, 3, 3), bias=False)\n",
       "            (bn): BatchNorm3d(1, eps=1e-05, momentum=0.01, affine=True, track_running_stats=True)\n",
       "          )\n",
       "        )\n",
       "      )\n",
       "    )\n",
       "    (1): BasicBlock(\n",
       "      (conv1): Conv3d(64, 64, kernel_size=(3, 3, 3), stride=(1, 1, 1), padding=(1, 1, 1), bias=False)\n",
       "      (bn1): BatchNorm3d(64, eps=1e-05, momentum=0.1, affine=True, track_running_stats=True)\n",
       "      (relu): ReLU(inplace=True)\n",
       "      (conv2): Conv3d(64, 64, kernel_size=(3, 3, 3), stride=(1, 1, 1), padding=(1, 1, 1), bias=False)\n",
       "      (bn2): BatchNorm3d(64, eps=1e-05, momentum=0.1, affine=True, track_running_stats=True)\n",
       "      (cbam): CBAM(\n",
       "        (ChannelGate): ChannelGate(\n",
       "          (mlp): Sequential(\n",
       "            (0): Flatten()\n",
       "            (1): Linear(in_features=64, out_features=4, bias=True)\n",
       "            (2): ReLU()\n",
       "            (3): Linear(in_features=4, out_features=64, bias=True)\n",
       "          )\n",
       "        )\n",
       "        (SpatialGate): SpatialGate(\n",
       "          (compress): ChannelPool()\n",
       "          (spatial): BasicConv(\n",
       "            (conv): Conv3d(2, 1, kernel_size=(7, 7, 7), stride=(1, 1, 1), padding=(3, 3, 3), bias=False)\n",
       "            (bn): BatchNorm3d(1, eps=1e-05, momentum=0.01, affine=True, track_running_stats=True)\n",
       "          )\n",
       "        )\n",
       "      )\n",
       "    )\n",
       "  )\n",
       "  (layer2): Sequential(\n",
       "    (0): BasicBlock(\n",
       "      (conv1): Conv3d(64, 128, kernel_size=(3, 3, 3), stride=(2, 2, 2), padding=(1, 1, 1), bias=False)\n",
       "      (bn1): BatchNorm3d(128, eps=1e-05, momentum=0.1, affine=True, track_running_stats=True)\n",
       "      (relu): ReLU(inplace=True)\n",
       "      (conv2): Conv3d(128, 128, kernel_size=(3, 3, 3), stride=(1, 1, 1), padding=(1, 1, 1), bias=False)\n",
       "      (bn2): BatchNorm3d(128, eps=1e-05, momentum=0.1, affine=True, track_running_stats=True)\n",
       "      (downsample): Sequential(\n",
       "        (0): Conv3d(64, 128, kernel_size=(1, 1, 1), stride=(2, 2, 2), bias=False)\n",
       "        (1): BatchNorm3d(128, eps=1e-05, momentum=0.1, affine=True, track_running_stats=True)\n",
       "      )\n",
       "      (cbam): CBAM(\n",
       "        (ChannelGate): ChannelGate(\n",
       "          (mlp): Sequential(\n",
       "            (0): Flatten()\n",
       "            (1): Linear(in_features=128, out_features=8, bias=True)\n",
       "            (2): ReLU()\n",
       "            (3): Linear(in_features=8, out_features=128, bias=True)\n",
       "          )\n",
       "        )\n",
       "        (SpatialGate): SpatialGate(\n",
       "          (compress): ChannelPool()\n",
       "          (spatial): BasicConv(\n",
       "            (conv): Conv3d(2, 1, kernel_size=(7, 7, 7), stride=(1, 1, 1), padding=(3, 3, 3), bias=False)\n",
       "            (bn): BatchNorm3d(1, eps=1e-05, momentum=0.01, affine=True, track_running_stats=True)\n",
       "          )\n",
       "        )\n",
       "      )\n",
       "    )\n",
       "    (1): BasicBlock(\n",
       "      (conv1): Conv3d(128, 128, kernel_size=(3, 3, 3), stride=(1, 1, 1), padding=(1, 1, 1), bias=False)\n",
       "      (bn1): BatchNorm3d(128, eps=1e-05, momentum=0.1, affine=True, track_running_stats=True)\n",
       "      (relu): ReLU(inplace=True)\n",
       "      (conv2): Conv3d(128, 128, kernel_size=(3, 3, 3), stride=(1, 1, 1), padding=(1, 1, 1), bias=False)\n",
       "      (bn2): BatchNorm3d(128, eps=1e-05, momentum=0.1, affine=True, track_running_stats=True)\n",
       "      (cbam): CBAM(\n",
       "        (ChannelGate): ChannelGate(\n",
       "          (mlp): Sequential(\n",
       "            (0): Flatten()\n",
       "            (1): Linear(in_features=128, out_features=8, bias=True)\n",
       "            (2): ReLU()\n",
       "            (3): Linear(in_features=8, out_features=128, bias=True)\n",
       "          )\n",
       "        )\n",
       "        (SpatialGate): SpatialGate(\n",
       "          (compress): ChannelPool()\n",
       "          (spatial): BasicConv(\n",
       "            (conv): Conv3d(2, 1, kernel_size=(7, 7, 7), stride=(1, 1, 1), padding=(3, 3, 3), bias=False)\n",
       "            (bn): BatchNorm3d(1, eps=1e-05, momentum=0.01, affine=True, track_running_stats=True)\n",
       "          )\n",
       "        )\n",
       "      )\n",
       "    )\n",
       "  )\n",
       "  (layer3): Sequential(\n",
       "    (0): BasicBlock(\n",
       "      (conv1): Conv3d(128, 256, kernel_size=(3, 3, 3), stride=(2, 2, 2), padding=(1, 1, 1), bias=False)\n",
       "      (bn1): BatchNorm3d(256, eps=1e-05, momentum=0.1, affine=True, track_running_stats=True)\n",
       "      (relu): ReLU(inplace=True)\n",
       "      (conv2): Conv3d(256, 256, kernel_size=(3, 3, 3), stride=(1, 1, 1), padding=(1, 1, 1), bias=False)\n",
       "      (bn2): BatchNorm3d(256, eps=1e-05, momentum=0.1, affine=True, track_running_stats=True)\n",
       "      (downsample): Sequential(\n",
       "        (0): Conv3d(128, 256, kernel_size=(1, 1, 1), stride=(2, 2, 2), bias=False)\n",
       "        (1): BatchNorm3d(256, eps=1e-05, momentum=0.1, affine=True, track_running_stats=True)\n",
       "      )\n",
       "      (cbam): CBAM(\n",
       "        (ChannelGate): ChannelGate(\n",
       "          (mlp): Sequential(\n",
       "            (0): Flatten()\n",
       "            (1): Linear(in_features=256, out_features=16, bias=True)\n",
       "            (2): ReLU()\n",
       "            (3): Linear(in_features=16, out_features=256, bias=True)\n",
       "          )\n",
       "        )\n",
       "        (SpatialGate): SpatialGate(\n",
       "          (compress): ChannelPool()\n",
       "          (spatial): BasicConv(\n",
       "            (conv): Conv3d(2, 1, kernel_size=(7, 7, 7), stride=(1, 1, 1), padding=(3, 3, 3), bias=False)\n",
       "            (bn): BatchNorm3d(1, eps=1e-05, momentum=0.01, affine=True, track_running_stats=True)\n",
       "          )\n",
       "        )\n",
       "      )\n",
       "    )\n",
       "    (1): BasicBlock(\n",
       "      (conv1): Conv3d(256, 256, kernel_size=(3, 3, 3), stride=(1, 1, 1), padding=(1, 1, 1), bias=False)\n",
       "      (bn1): BatchNorm3d(256, eps=1e-05, momentum=0.1, affine=True, track_running_stats=True)\n",
       "      (relu): ReLU(inplace=True)\n",
       "      (conv2): Conv3d(256, 256, kernel_size=(3, 3, 3), stride=(1, 1, 1), padding=(1, 1, 1), bias=False)\n",
       "      (bn2): BatchNorm3d(256, eps=1e-05, momentum=0.1, affine=True, track_running_stats=True)\n",
       "      (cbam): CBAM(\n",
       "        (ChannelGate): ChannelGate(\n",
       "          (mlp): Sequential(\n",
       "            (0): Flatten()\n",
       "            (1): Linear(in_features=256, out_features=16, bias=True)\n",
       "            (2): ReLU()\n",
       "            (3): Linear(in_features=16, out_features=256, bias=True)\n",
       "          )\n",
       "        )\n",
       "        (SpatialGate): SpatialGate(\n",
       "          (compress): ChannelPool()\n",
       "          (spatial): BasicConv(\n",
       "            (conv): Conv3d(2, 1, kernel_size=(7, 7, 7), stride=(1, 1, 1), padding=(3, 3, 3), bias=False)\n",
       "            (bn): BatchNorm3d(1, eps=1e-05, momentum=0.01, affine=True, track_running_stats=True)\n",
       "          )\n",
       "        )\n",
       "      )\n",
       "    )\n",
       "  )\n",
       "  (layer4): Sequential(\n",
       "    (0): BasicBlock(\n",
       "      (conv1): Conv3d(256, 512, kernel_size=(3, 3, 3), stride=(2, 2, 2), padding=(1, 1, 1), bias=False)\n",
       "      (bn1): BatchNorm3d(512, eps=1e-05, momentum=0.1, affine=True, track_running_stats=True)\n",
       "      (relu): ReLU(inplace=True)\n",
       "      (conv2): Conv3d(512, 512, kernel_size=(3, 3, 3), stride=(1, 1, 1), padding=(1, 1, 1), bias=False)\n",
       "      (bn2): BatchNorm3d(512, eps=1e-05, momentum=0.1, affine=True, track_running_stats=True)\n",
       "      (downsample): Sequential(\n",
       "        (0): Conv3d(256, 512, kernel_size=(1, 1, 1), stride=(2, 2, 2), bias=False)\n",
       "        (1): BatchNorm3d(512, eps=1e-05, momentum=0.1, affine=True, track_running_stats=True)\n",
       "      )\n",
       "      (cbam): CBAM(\n",
       "        (ChannelGate): ChannelGate(\n",
       "          (mlp): Sequential(\n",
       "            (0): Flatten()\n",
       "            (1): Linear(in_features=512, out_features=32, bias=True)\n",
       "            (2): ReLU()\n",
       "            (3): Linear(in_features=32, out_features=512, bias=True)\n",
       "          )\n",
       "        )\n",
       "        (SpatialGate): SpatialGate(\n",
       "          (compress): ChannelPool()\n",
       "          (spatial): BasicConv(\n",
       "            (conv): Conv3d(2, 1, kernel_size=(7, 7, 7), stride=(1, 1, 1), padding=(3, 3, 3), bias=False)\n",
       "            (bn): BatchNorm3d(1, eps=1e-05, momentum=0.01, affine=True, track_running_stats=True)\n",
       "          )\n",
       "        )\n",
       "      )\n",
       "    )\n",
       "    (1): BasicBlock(\n",
       "      (conv1): Conv3d(512, 512, kernel_size=(3, 3, 3), stride=(1, 1, 1), padding=(1, 1, 1), bias=False)\n",
       "      (bn1): BatchNorm3d(512, eps=1e-05, momentum=0.1, affine=True, track_running_stats=True)\n",
       "      (relu): ReLU(inplace=True)\n",
       "      (conv2): Conv3d(512, 512, kernel_size=(3, 3, 3), stride=(1, 1, 1), padding=(1, 1, 1), bias=False)\n",
       "      (bn2): BatchNorm3d(512, eps=1e-05, momentum=0.1, affine=True, track_running_stats=True)\n",
       "      (cbam): CBAM(\n",
       "        (ChannelGate): ChannelGate(\n",
       "          (mlp): Sequential(\n",
       "            (0): Flatten()\n",
       "            (1): Linear(in_features=512, out_features=32, bias=True)\n",
       "            (2): ReLU()\n",
       "            (3): Linear(in_features=32, out_features=512, bias=True)\n",
       "          )\n",
       "        )\n",
       "        (SpatialGate): SpatialGate(\n",
       "          (compress): ChannelPool()\n",
       "          (spatial): BasicConv(\n",
       "            (conv): Conv3d(2, 1, kernel_size=(7, 7, 7), stride=(1, 1, 1), padding=(3, 3, 3), bias=False)\n",
       "            (bn): BatchNorm3d(1, eps=1e-05, momentum=0.01, affine=True, track_running_stats=True)\n",
       "          )\n",
       "        )\n",
       "      )\n",
       "    )\n",
       "  )\n",
       "  (avgpool): AdaptiveAvgPool3d(output_size=(1, 1, 1))\n",
       "  (fc): Linear(in_features=512, out_features=2, bias=True)\n",
       "  (sigmoid): Sigmoid()\n",
       "  (dropout): Dropout(p=0.2, inplace=False)\n",
       ")"
      ]
     },
     "execution_count": 51,
     "metadata": {},
     "output_type": "execute_result"
    }
   ],
   "source": [
    "model"
   ]
  },
  {
   "cell_type": "code",
   "execution_count": 52,
   "id": "e718d933",
   "metadata": {},
   "outputs": [
    {
     "name": "stdout",
     "output_type": "stream",
     "text": [
      "The model has 33,255,610 trainable parameters\n"
     ]
    }
   ],
   "source": [
    "def count_parameters(model):\n",
    "    return sum(p.numel() for p in model.parameters() if p.requires_grad)\n",
    "\n",
    "print(f'The model has {count_parameters(model):,} trainable parameters')"
   ]
  },
  {
   "cell_type": "markdown",
   "id": "c02846fc",
   "metadata": {},
   "source": [
    "# 9. Define Loss Function and Optimizer"
   ]
  },
  {
   "cell_type": "code",
   "execution_count": 53,
   "id": "2501a605",
   "metadata": {},
   "outputs": [],
   "source": [
    "class FocalLoss(nn.Module):\n",
    "    def __init__(self, gamma=0, alpha=None, size_average=True):\n",
    "        super(FocalLoss, self).__init__()\n",
    "        self.gamma = gamma\n",
    "        self.alpha = alpha\n",
    "        if isinstance(alpha,(float,int)): self.alpha = torch.Tensor([alpha,1-alpha])\n",
    "        if isinstance(alpha,list): self.alpha = torch.Tensor(alpha)\n",
    "        self.size_average = size_average\n",
    "\n",
    "    def forward(self, input, target):\n",
    "        if input.dim()>2:\n",
    "            input = input.view(input.size(0),input.size(1),-1)  # N,C,H,W => N,C,H*W\n",
    "            input = input.transpose(1,2)    # N,C,H*W => N,H*W,C\n",
    "            input = input.contiguous().view(-1,input.size(2))   # N,H*W,C => N*H*W,C\n",
    "        target = target.view(-1,1)\n",
    "\n",
    "        logpt = F.log_softmax(input)\n",
    "        print(type(logpt), logpt.shape)\n",
    "        print(logpt)\n",
    "        logpt = logpt.gather(1,target)\n",
    "        logpt = logpt.view(-1)\n",
    "        pt = Variable(logpt.data.exp())\n",
    "\n",
    "        if self.alpha is not None:\n",
    "            if self.alpha.type()!=input.data.type():\n",
    "                self.alpha = self.alpha.type_as(input.data)\n",
    "            at = self.alpha.gather(0,target.data.view(-1))\n",
    "            logpt = logpt * Variable(at)\n",
    "\n",
    "        loss = -1 * (1-pt)**self.gamma * logpt\n",
    "        if self.size_average: return loss.mean()\n",
    "        else: return loss.sum()"
   ]
  },
  {
   "cell_type": "code",
   "execution_count": 54,
   "id": "d80e3b50",
   "metadata": {},
   "outputs": [],
   "source": [
    "loss_fn=nn.CrossEntropyLoss().to(device)\n",
    "optimizer=torch.optim.Adam(model.parameters(), \n",
    "                           lr=CFG['Learning_rate'], \n",
    "                           betas=(CFG['beta_1'], CFG['beta_2']), \n",
    "                           eps=CFG['eps'], \n",
    "                           weight_decay=CFG['weight_decay'])"
   ]
  },
  {
   "cell_type": "markdown",
   "id": "10fab24d",
   "metadata": {},
   "source": [
    "# 10. EarlyStopping"
   ]
  },
  {
   "cell_type": "code",
   "execution_count": null,
   "id": "1bde72a1",
   "metadata": {},
   "outputs": [],
   "source": []
  },
  {
   "cell_type": "markdown",
   "id": "af7a94d5",
   "metadata": {},
   "source": [
    "# 11. KFold"
   ]
  },
  {
   "cell_type": "code",
   "execution_count": null,
   "id": "85de6028",
   "metadata": {},
   "outputs": [],
   "source": []
  },
  {
   "cell_type": "markdown",
   "id": "c3a894f0",
   "metadata": {},
   "source": [
    "# 12. Train & Validation"
   ]
  },
  {
   "cell_type": "code",
   "execution_count": 55,
   "id": "6aae7fa1",
   "metadata": {},
   "outputs": [],
   "source": [
    "def train_loop(dataloader, model, loss_fn, optimizer):\n",
    "    \n",
    "    size=len(dataloader.dataset)\n",
    "    print(\"데이터 사이즈 : \", size)\n",
    "    \n",
    "    train_loss, correct=0,0\n",
    "    \n",
    "    model.train()\n",
    "    \n",
    "    #autograd engine(gradient를 계산해주는 context)을 비활성화 시켜 필요한 메모리를 줄여주고 연산속도 증가\n",
    "    \n",
    "    for batch, (X,y) in (enumerate((dataloader))):\n",
    "        #print(type(X), type(y))\n",
    "        #y=y.to(device)\n",
    "        X=Variable(X.to(device).float())\n",
    "        y=Variable(y.to(device).float())\n",
    "        pred=model(X)\n",
    "        #print(pred)\n",
    "        #print(y)\n",
    "        loss=loss_fn(pred,y)\n",
    "        train_loss+=loss.item()\n",
    "        correct+=(pred.argmax(1)==y.argmax(1)).type(torch.float).sum().item()\n",
    "        #print('batch : ', batch)\n",
    "        #print('loss : ', loss)\n",
    "        #print('pred : ', pred)\n",
    "        #역전파\n",
    "        optimizer.zero_grad() #gradient를 0으로 초기화\n",
    "        loss.requires_grad_(True)\n",
    "        loss.backward() #비용 함수를 미분하여 gradient 계산\n",
    "        optimizer.step() #update weight and bias\n",
    "        \n",
    "        if batch%10==0:\n",
    "            loss, current=loss.item(), batch*len(X)\n",
    "            print(f\"Batch {batch} loss : {loss:>7f} [{current:>5d}/{size:>5d}]\")  \n",
    "        \n",
    "    train_loss/=size\n",
    "    correct/=size\n",
    "    \n",
    "    print(f\"Train\\n Accuracy : {(100*correct):>0.1f}%, Avg Loss : {train_loss:>8f}\\n\")\n",
    "    return train_loss, correct"
   ]
  },
  {
   "cell_type": "code",
   "execution_count": 56,
   "id": "f12a0564",
   "metadata": {},
   "outputs": [],
   "source": [
    "def val_loop(dataloader, model, loss_fn):\n",
    "    size=len(dataloader.dataset)\n",
    "    \n",
    "    num_batches=len(dataloader)\n",
    "    val_loss, correct=0,0\n",
    "    \n",
    "    model.eval()\n",
    "    with torch.no_grad():\n",
    "        for X,y in dataloader:\n",
    "            X=Variable(X.to(device).float())\n",
    "            #print(X.shape)\n",
    "            y=Variable(y.to(device).float())\n",
    "            pred=model(X)\n",
    "            #print(pred.shape)\n",
    "            val_loss+=loss_fn(pred, y).item()\n",
    "            correct+=(pred.argmax(1)==y.argmax(1)).type(torch.float).sum().item()\n",
    "            \n",
    "    val_loss/=num_batches\n",
    "    correct/=size\n",
    "    \n",
    "    print(f\"Validation\\n Accuracy : {(100*correct):>0.1f}%, Avg Loss : {val_loss:>8f}\\n\")\n",
    "    return val_loss, correct"
   ]
  },
  {
   "cell_type": "code",
   "execution_count": null,
   "id": "d10b6e07",
   "metadata": {},
   "outputs": [
    {
     "name": "stdout",
     "output_type": "stream",
     "text": [
      "Epoch 1\n",
      "-------------------------------------------\n",
      "데이터 사이즈 :  261\n",
      "Batch 0 loss : 0.692380 [    0/  261]\n",
      "Batch 10 loss : 0.360987 [   80/  261]\n",
      "Batch 20 loss : 0.327711 [  160/  261]\n",
      "Batch 30 loss : 0.323632 [  240/  261]\n",
      "Train\n",
      " Accuracy : 77.0%, Avg Loss : 0.069146\n",
      "\n",
      "Epcoh time : 1.0분 3.6796388626098633 초\n",
      "Epoch 1 End\n",
      "-------------------------------------------\n",
      "\n",
      "Epoch 2\n",
      "-------------------------------------------\n",
      "데이터 사이즈 :  261\n",
      "Batch 0 loss : 0.443017 [    0/  261]\n",
      "Batch 10 loss : 0.539110 [   80/  261]\n",
      "Batch 20 loss : 0.337668 [  160/  261]\n",
      "Batch 30 loss : 0.562361 [  240/  261]\n",
      "Train\n",
      " Accuracy : 77.8%, Avg Loss : 0.066878\n",
      "\n",
      "Epcoh time : 0.0분 54.36778926849365 초\n",
      "Epoch 2 End\n",
      "-------------------------------------------\n",
      "\n",
      "Epoch 3\n",
      "-------------------------------------------\n",
      "데이터 사이즈 :  261\n",
      "Batch 0 loss : 0.616123 [    0/  261]\n",
      "Batch 10 loss : 0.331909 [   80/  261]\n"
     ]
    }
   ],
   "source": [
    "train_loss_info=[]\n",
    "train_acc_info=[]\n",
    "\n",
    "#val_loss_info=[]\n",
    "#val_acc_info=[]\n",
    "\n",
    "start=time.time()\n",
    "\n",
    "for t in range(CFG['EPOCHS']):\n",
    "    print(f\"Epoch {t+1}\\n-------------------------------------------\")\n",
    "    start_epoch=time.time()\n",
    "    train_loss, train_acc=train_loop(train_dataloader, model, loss_fn, optimizer)\n",
    "    train_loss_info.append(train_loss)\n",
    "    train_acc_info.append(train_acc)\n",
    "    \n",
    "    #val_loss, val_acc=val_loop(validation_dataloader, model, loss_fn)\n",
    "    #val_loss_info.append(val_loss)\n",
    "    #val_acc_info.append(val_acc)\n",
    "    \n",
    "    end_epoch=time.time()\n",
    "    print(f\"Epcoh time : {(end_epoch-start_epoch)//60}분 {(end_epoch-start_epoch)%60} 초\")\n",
    "    print(f\"Epoch {t+1} End\\n-------------------------------------------\")\n",
    "    print()\n",
    "    \n",
    "end=time.time()\n",
    "\n",
    "print(\"Epoch 걸린 시간 : \", (end-start)//60, \" 분\", (end-start)%60, \" 초\")"
   ]
  },
  {
   "cell_type": "markdown",
   "id": "6107a97b",
   "metadata": {},
   "source": [
    "Plot Train Acc, loss"
   ]
  },
  {
   "cell_type": "code",
   "execution_count": null,
   "id": "ce6e60fc",
   "metadata": {},
   "outputs": [],
   "source": [
    "ep=[i for i in range(1, CFG['EPOCHS']+1)]"
   ]
  },
  {
   "cell_type": "code",
   "execution_count": null,
   "id": "89bcbd33",
   "metadata": {},
   "outputs": [],
   "source": [
    "plt.figure(figsize=(15,7))\n",
    "plt.title('train_loss_info')\n",
    "plt.plot(ep, train_loss_info, label='train')\n",
    "plt.legend()"
   ]
  },
  {
   "cell_type": "markdown",
   "id": "9e3b217f",
   "metadata": {},
   "source": [
    "# 13. Save Model"
   ]
  },
  {
   "cell_type": "code",
   "execution_count": null,
   "id": "a1f1d4d8",
   "metadata": {},
   "outputs": [],
   "source": [
    "PATH='C:\\\\Users\\\\PC00\\\\Desktop\\\\ASD_data\\\\model\\\\0201\\\\T2-1\\\\'"
   ]
  },
  {
   "cell_type": "code",
   "execution_count": null,
   "id": "c215b30c",
   "metadata": {},
   "outputs": [],
   "source": [
    "torch.save(model, PATH+'model.pt') #전체 모델 저장\n",
    "torch.save(model.state_dict(), PATH+'model_state_dict.pt') #모델 객체의 state_dict 저장\n",
    "torch.save({\n",
    "    'model':model.state_dict(),\n",
    "    'optimizer':optimizer.state_dict()\n",
    "}, PATH+'all.tar') #여러 가지 값 저장, 학습 중 진행 상황 저장을 위해 epoch, loss 값 등 일반 scalar 값 저장 가능"
   ]
  },
  {
   "cell_type": "markdown",
   "id": "672ba98b",
   "metadata": {},
   "source": [
    "# 14. Test"
   ]
  },
  {
   "cell_type": "code",
   "execution_count": null,
   "id": "799dca1f",
   "metadata": {},
   "outputs": [],
   "source": [
    "model=torch.load(PATH+'model.pt') #전체 모델을 통째로 불러옴\n",
    "model.load_state_dict(torch.load(PATH+'model_state_dict.pt')) #state_dict를 불러 온 후, 모델에 저장\n",
    "\n",
    "checkpoint = torch.load(PATH + 'all.tar')   # dict 불러오기\n",
    "model.load_state_dict(checkpoint['model'])\n",
    "optimizer.load_state_dict(checkpoint['optimizer'])\n",
    "\n",
    "model.to(device)"
   ]
  },
  {
   "cell_type": "code",
   "execution_count": null,
   "id": "5bb31f04",
   "metadata": {},
   "outputs": [],
   "source": [
    "#sensitivity\n",
    "#양성인 것중에 양성으로 판별\n",
    "\n",
    "#specificity\n",
    "#음성인 것중에 음성으로 판별\n",
    "\n",
    "def true_positive(p,t):\n",
    "    l=len(p)\n",
    "    cnt=0\n",
    "    for i in range(l):\n",
    "        if t[i]==1 and p[i]==1:\n",
    "            cnt+=1\n",
    "            \n",
    "    return cnt\n",
    "\n",
    "\n",
    "def true_negative(p,t):\n",
    "    l=len(p)\n",
    "    cnt=0\n",
    "    for i in range(l):\n",
    "        if t[i]==0 and p[i]==0:\n",
    "            cnt+=1\n",
    "    \n",
    "    return cnt"
   ]
  },
  {
   "cell_type": "code",
   "execution_count": null,
   "id": "b45ed7eb",
   "metadata": {},
   "outputs": [],
   "source": [
    "def test_loop(dataloader,model, loss_fn, test_asd, test_tc):\n",
    "    size=len(dataloader.dataset)\n",
    "    num_batches=len(dataloader)\n",
    "    model.eval()\n",
    "    \n",
    "    test_loss, correct=0,0\n",
    "    \n",
    "    TP,TN=0,0\n",
    "    \n",
    "    with torch.no_grad():\n",
    "        for X,y in dataloader:\n",
    "            X=Variable(X.to(device).float())\n",
    "            y=Variable(y.to(device).float())\n",
    "            \n",
    "            pred=model(X)\n",
    "            \n",
    "            #loss\n",
    "            test_loss+=loss_fn(pred, y).item()\n",
    "            #accuracy\n",
    "            correct+=(pred.argmax(1)==y.argmax(1)).type(torch.float).sum().item()\n",
    "            print(pred.argmax(1))\n",
    "            print(y.argmax(1))\n",
    "            print()\n",
    "            TP+=true_positive(pred.argmax(1), y.argmax(1))\n",
    "            TN+=true_negative(pred.argmax(1), y.argmax(1))\n",
    "    \n",
    "    FN=test_asd-TP\n",
    "    FP=test_tc-TN\n",
    "    test_loss/=num_batches\n",
    "    correct/=size\n",
    "    \n",
    "    print(f\"Test Error\\n Accuracy : {(100*correct):>0.1f}%, Avg Loss : {test_loss:>8f}\\n\")\n",
    "    print(f\"True Positive : {TP}\\nTrue Negative : {TN}\\nFalse Positive : {FP}\\nFalse Negative : {FN}\\n\")\n",
    "    return (TP/(TP+FN))*100, (TN/(FP+TN))*100, (TP/(TP+FP))*100, (TN/(FN+TN))*100"
   ]
  },
  {
   "cell_type": "code",
   "execution_count": null,
   "id": "39c21bd5",
   "metadata": {},
   "outputs": [],
   "source": [
    "test_asd=10\n",
    "test_tc=10\n",
    "\n",
    "start=time.time()\n",
    "\n",
    "sensitivity, specificity, PPV, NPV=test_loop(test_dataloader ,model, loss_fn, test_asd, test_tc)\n",
    "\n",
    "end=time.time()\n",
    "\n",
    "print(f\"Test 걸린 시간 : {(end-start)//60} 분 {(end-start)%60:.1f} 초\")"
   ]
  },
  {
   "cell_type": "code",
   "execution_count": null,
   "id": "fd1a4cea",
   "metadata": {},
   "outputs": [],
   "source": [
    "print(f\"Sensitivity : {sensitivity:.3f}%\")\n",
    "print(f\"Specificity : {specificity:.3f}%\")\n",
    "print(f\"PPV : {PPV:.3f}%\")\n",
    "print(f\"NPV : {NPV:.3f}%\")"
   ]
  },
  {
   "cell_type": "code",
   "execution_count": null,
   "id": "3fb8d008",
   "metadata": {},
   "outputs": [],
   "source": []
  },
  {
   "cell_type": "code",
   "execution_count": null,
   "id": "14a048ff",
   "metadata": {},
   "outputs": [],
   "source": []
  },
  {
   "cell_type": "code",
   "execution_count": null,
   "id": "a5635e84",
   "metadata": {},
   "outputs": [],
   "source": []
  }
 ],
 "metadata": {
  "kernelspec": {
   "display_name": "Pytorch_gpu",
   "language": "python",
   "name": "torch"
  },
  "language_info": {
   "codemirror_mode": {
    "name": "ipython",
    "version": 3
   },
   "file_extension": ".py",
   "mimetype": "text/x-python",
   "name": "python",
   "nbconvert_exporter": "python",
   "pygments_lexer": "ipython3",
   "version": "3.9.13"
  }
 },
 "nbformat": 4,
 "nbformat_minor": 5
}
